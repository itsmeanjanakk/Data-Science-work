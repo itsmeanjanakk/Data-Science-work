{
 "cells": [
  {
   "cell_type": "code",
   "execution_count": 1,
   "id": "bcb052e9",
   "metadata": {},
   "outputs": [],
   "source": [
    "import warnings\n",
    "warnings.filterwarnings(\"ignore\")"
   ]
  },
  {
   "cell_type": "code",
   "execution_count": 2,
   "id": "128566a0",
   "metadata": {},
   "outputs": [],
   "source": [
    "import pandas as pd\n",
    "import numpy as np\n",
    "import matplotlib.pyplot as plt\n",
    "import seaborn as sns"
   ]
  },
  {
   "cell_type": "code",
   "execution_count": 3,
   "id": "d1199283",
   "metadata": {},
   "outputs": [],
   "source": [
    "# Create your first MLP in Keras\n",
    "from keras.models import Sequential\n",
    "from keras.layers import Dense"
   ]
  },
  {
   "cell_type": "code",
   "execution_count": 4,
   "id": "a7a49b9a",
   "metadata": {},
   "outputs": [],
   "source": [
    "gasturbine=pd.read_csv(\"C:\\\\Users\\\\Anjana\\\\Desktop\\\\DS Assignments\\\\Neural Networks\\\\gas_turbines.csv\")"
   ]
  },
  {
   "cell_type": "code",
   "execution_count": 5,
   "id": "d6aaf771",
   "metadata": {},
   "outputs": [
    {
     "data": {
      "text/html": [
       "<div>\n",
       "<style scoped>\n",
       "    .dataframe tbody tr th:only-of-type {\n",
       "        vertical-align: middle;\n",
       "    }\n",
       "\n",
       "    .dataframe tbody tr th {\n",
       "        vertical-align: top;\n",
       "    }\n",
       "\n",
       "    .dataframe thead th {\n",
       "        text-align: right;\n",
       "    }\n",
       "</style>\n",
       "<table border=\"1\" class=\"dataframe\">\n",
       "  <thead>\n",
       "    <tr style=\"text-align: right;\">\n",
       "      <th></th>\n",
       "      <th>AT</th>\n",
       "      <th>AP</th>\n",
       "      <th>AH</th>\n",
       "      <th>AFDP</th>\n",
       "      <th>GTEP</th>\n",
       "      <th>TIT</th>\n",
       "      <th>TAT</th>\n",
       "      <th>TEY</th>\n",
       "      <th>CDP</th>\n",
       "      <th>CO</th>\n",
       "      <th>NOX</th>\n",
       "    </tr>\n",
       "  </thead>\n",
       "  <tbody>\n",
       "    <tr>\n",
       "      <th>0</th>\n",
       "      <td>6.8594</td>\n",
       "      <td>1007.9</td>\n",
       "      <td>96.799</td>\n",
       "      <td>3.5000</td>\n",
       "      <td>19.663</td>\n",
       "      <td>1059.2</td>\n",
       "      <td>550.00</td>\n",
       "      <td>114.70</td>\n",
       "      <td>10.605</td>\n",
       "      <td>3.1547</td>\n",
       "      <td>82.722</td>\n",
       "    </tr>\n",
       "    <tr>\n",
       "      <th>1</th>\n",
       "      <td>6.7850</td>\n",
       "      <td>1008.4</td>\n",
       "      <td>97.118</td>\n",
       "      <td>3.4998</td>\n",
       "      <td>19.728</td>\n",
       "      <td>1059.3</td>\n",
       "      <td>550.00</td>\n",
       "      <td>114.72</td>\n",
       "      <td>10.598</td>\n",
       "      <td>3.2363</td>\n",
       "      <td>82.776</td>\n",
       "    </tr>\n",
       "    <tr>\n",
       "      <th>2</th>\n",
       "      <td>6.8977</td>\n",
       "      <td>1008.8</td>\n",
       "      <td>95.939</td>\n",
       "      <td>3.4824</td>\n",
       "      <td>19.779</td>\n",
       "      <td>1059.4</td>\n",
       "      <td>549.87</td>\n",
       "      <td>114.71</td>\n",
       "      <td>10.601</td>\n",
       "      <td>3.2012</td>\n",
       "      <td>82.468</td>\n",
       "    </tr>\n",
       "    <tr>\n",
       "      <th>3</th>\n",
       "      <td>7.0569</td>\n",
       "      <td>1009.2</td>\n",
       "      <td>95.249</td>\n",
       "      <td>3.4805</td>\n",
       "      <td>19.792</td>\n",
       "      <td>1059.6</td>\n",
       "      <td>549.99</td>\n",
       "      <td>114.72</td>\n",
       "      <td>10.606</td>\n",
       "      <td>3.1923</td>\n",
       "      <td>82.670</td>\n",
       "    </tr>\n",
       "    <tr>\n",
       "      <th>4</th>\n",
       "      <td>7.3978</td>\n",
       "      <td>1009.7</td>\n",
       "      <td>95.150</td>\n",
       "      <td>3.4976</td>\n",
       "      <td>19.765</td>\n",
       "      <td>1059.7</td>\n",
       "      <td>549.98</td>\n",
       "      <td>114.72</td>\n",
       "      <td>10.612</td>\n",
       "      <td>3.2484</td>\n",
       "      <td>82.311</td>\n",
       "    </tr>\n",
       "    <tr>\n",
       "      <th>...</th>\n",
       "      <td>...</td>\n",
       "      <td>...</td>\n",
       "      <td>...</td>\n",
       "      <td>...</td>\n",
       "      <td>...</td>\n",
       "      <td>...</td>\n",
       "      <td>...</td>\n",
       "      <td>...</td>\n",
       "      <td>...</td>\n",
       "      <td>...</td>\n",
       "      <td>...</td>\n",
       "    </tr>\n",
       "    <tr>\n",
       "      <th>15034</th>\n",
       "      <td>9.0301</td>\n",
       "      <td>1005.6</td>\n",
       "      <td>98.460</td>\n",
       "      <td>3.5421</td>\n",
       "      <td>19.164</td>\n",
       "      <td>1049.7</td>\n",
       "      <td>546.21</td>\n",
       "      <td>111.61</td>\n",
       "      <td>10.400</td>\n",
       "      <td>4.5186</td>\n",
       "      <td>79.559</td>\n",
       "    </tr>\n",
       "    <tr>\n",
       "      <th>15035</th>\n",
       "      <td>7.8879</td>\n",
       "      <td>1005.9</td>\n",
       "      <td>99.093</td>\n",
       "      <td>3.5059</td>\n",
       "      <td>19.414</td>\n",
       "      <td>1046.3</td>\n",
       "      <td>543.22</td>\n",
       "      <td>111.78</td>\n",
       "      <td>10.433</td>\n",
       "      <td>4.8470</td>\n",
       "      <td>79.917</td>\n",
       "    </tr>\n",
       "    <tr>\n",
       "      <th>15036</th>\n",
       "      <td>7.2647</td>\n",
       "      <td>1006.3</td>\n",
       "      <td>99.496</td>\n",
       "      <td>3.4770</td>\n",
       "      <td>19.530</td>\n",
       "      <td>1037.7</td>\n",
       "      <td>537.32</td>\n",
       "      <td>110.19</td>\n",
       "      <td>10.483</td>\n",
       "      <td>7.9632</td>\n",
       "      <td>90.912</td>\n",
       "    </tr>\n",
       "    <tr>\n",
       "      <th>15037</th>\n",
       "      <td>7.0060</td>\n",
       "      <td>1006.8</td>\n",
       "      <td>99.008</td>\n",
       "      <td>3.4486</td>\n",
       "      <td>19.377</td>\n",
       "      <td>1043.2</td>\n",
       "      <td>541.24</td>\n",
       "      <td>110.74</td>\n",
       "      <td>10.533</td>\n",
       "      <td>6.2494</td>\n",
       "      <td>93.227</td>\n",
       "    </tr>\n",
       "    <tr>\n",
       "      <th>15038</th>\n",
       "      <td>6.9279</td>\n",
       "      <td>1007.2</td>\n",
       "      <td>97.533</td>\n",
       "      <td>3.4275</td>\n",
       "      <td>19.306</td>\n",
       "      <td>1049.9</td>\n",
       "      <td>545.85</td>\n",
       "      <td>111.58</td>\n",
       "      <td>10.583</td>\n",
       "      <td>4.9816</td>\n",
       "      <td>92.498</td>\n",
       "    </tr>\n",
       "  </tbody>\n",
       "</table>\n",
       "<p>15039 rows × 11 columns</p>\n",
       "</div>"
      ],
      "text/plain": [
       "           AT      AP      AH    AFDP    GTEP     TIT     TAT     TEY     CDP  \\\n",
       "0      6.8594  1007.9  96.799  3.5000  19.663  1059.2  550.00  114.70  10.605   \n",
       "1      6.7850  1008.4  97.118  3.4998  19.728  1059.3  550.00  114.72  10.598   \n",
       "2      6.8977  1008.8  95.939  3.4824  19.779  1059.4  549.87  114.71  10.601   \n",
       "3      7.0569  1009.2  95.249  3.4805  19.792  1059.6  549.99  114.72  10.606   \n",
       "4      7.3978  1009.7  95.150  3.4976  19.765  1059.7  549.98  114.72  10.612   \n",
       "...       ...     ...     ...     ...     ...     ...     ...     ...     ...   \n",
       "15034  9.0301  1005.6  98.460  3.5421  19.164  1049.7  546.21  111.61  10.400   \n",
       "15035  7.8879  1005.9  99.093  3.5059  19.414  1046.3  543.22  111.78  10.433   \n",
       "15036  7.2647  1006.3  99.496  3.4770  19.530  1037.7  537.32  110.19  10.483   \n",
       "15037  7.0060  1006.8  99.008  3.4486  19.377  1043.2  541.24  110.74  10.533   \n",
       "15038  6.9279  1007.2  97.533  3.4275  19.306  1049.9  545.85  111.58  10.583   \n",
       "\n",
       "           CO     NOX  \n",
       "0      3.1547  82.722  \n",
       "1      3.2363  82.776  \n",
       "2      3.2012  82.468  \n",
       "3      3.1923  82.670  \n",
       "4      3.2484  82.311  \n",
       "...       ...     ...  \n",
       "15034  4.5186  79.559  \n",
       "15035  4.8470  79.917  \n",
       "15036  7.9632  90.912  \n",
       "15037  6.2494  93.227  \n",
       "15038  4.9816  92.498  \n",
       "\n",
       "[15039 rows x 11 columns]"
      ]
     },
     "execution_count": 5,
     "metadata": {},
     "output_type": "execute_result"
    }
   ],
   "source": [
    "gasturbine"
   ]
  },
  {
   "cell_type": "code",
   "execution_count": 6,
   "id": "f40a8b5e",
   "metadata": {},
   "outputs": [
    {
     "data": {
      "text/plain": [
       "(15039, 11)"
      ]
     },
     "execution_count": 6,
     "metadata": {},
     "output_type": "execute_result"
    }
   ],
   "source": [
    "gasturbine.shape"
   ]
  },
  {
   "cell_type": "code",
   "execution_count": 7,
   "id": "815b524e",
   "metadata": {},
   "outputs": [
    {
     "data": {
      "text/plain": [
       "AT      float64\n",
       "AP      float64\n",
       "AH      float64\n",
       "AFDP    float64\n",
       "GTEP    float64\n",
       "TIT     float64\n",
       "TAT     float64\n",
       "TEY     float64\n",
       "CDP     float64\n",
       "CO      float64\n",
       "NOX     float64\n",
       "dtype: object"
      ]
     },
     "execution_count": 7,
     "metadata": {},
     "output_type": "execute_result"
    }
   ],
   "source": [
    "gasturbine.dtypes"
   ]
  },
  {
   "cell_type": "code",
   "execution_count": 8,
   "id": "5bb5dba9",
   "metadata": {},
   "outputs": [
    {
     "data": {
      "text/plain": [
       "AT      0\n",
       "AP      0\n",
       "AH      0\n",
       "AFDP    0\n",
       "GTEP    0\n",
       "TIT     0\n",
       "TAT     0\n",
       "TEY     0\n",
       "CDP     0\n",
       "CO      0\n",
       "NOX     0\n",
       "dtype: int64"
      ]
     },
     "execution_count": 8,
     "metadata": {},
     "output_type": "execute_result"
    }
   ],
   "source": [
    "gasturbine.isnull().sum()"
   ]
  },
  {
   "cell_type": "code",
   "execution_count": 9,
   "id": "cf56d283",
   "metadata": {
    "scrolled": true
   },
   "outputs": [
    {
     "name": "stdout",
     "output_type": "stream",
     "text": [
      "<class 'pandas.core.frame.DataFrame'>\n",
      "RangeIndex: 15039 entries, 0 to 15038\n",
      "Data columns (total 11 columns):\n",
      " #   Column  Non-Null Count  Dtype  \n",
      "---  ------  --------------  -----  \n",
      " 0   AT      15039 non-null  float64\n",
      " 1   AP      15039 non-null  float64\n",
      " 2   AH      15039 non-null  float64\n",
      " 3   AFDP    15039 non-null  float64\n",
      " 4   GTEP    15039 non-null  float64\n",
      " 5   TIT     15039 non-null  float64\n",
      " 6   TAT     15039 non-null  float64\n",
      " 7   TEY     15039 non-null  float64\n",
      " 8   CDP     15039 non-null  float64\n",
      " 9   CO      15039 non-null  float64\n",
      " 10  NOX     15039 non-null  float64\n",
      "dtypes: float64(11)\n",
      "memory usage: 1.3 MB\n"
     ]
    }
   ],
   "source": [
    "gasturbine.info()"
   ]
  },
  {
   "cell_type": "code",
   "execution_count": 10,
   "id": "5e8e4917",
   "metadata": {},
   "outputs": [
    {
     "data": {
      "text/plain": [
       "<AxesSubplot:xlabel='AT', ylabel='Density'>"
      ]
     },
     "execution_count": 10,
     "metadata": {},
     "output_type": "execute_result"
    },
    {
     "data": {
      "image/png": "[encoded data removed]",
      "text/plain": [
       "<Figure size 432x288 with 1 Axes>"
      ]
     },
     "metadata": {
      "needs_background": "light"
     },
     "output_type": "display_data"
    }
   ],
   "source": [
    "sns.distplot(gasturbine[\"AT\"],hist=False)"
   ]
  },
  {
   "cell_type": "code",
   "execution_count": 11,
   "id": "26db1dcc",
   "metadata": {
    "scrolled": true
   },
   "outputs": [
    {
     "data": {
      "text/plain": [
       "<AxesSubplot:xlabel='AP', ylabel='Density'>"
      ]
     },
     "execution_count": 11,
     "metadata": {},
     "output_type": "execute_result"
    },
    {
     "data": {
      "image/png": "[encoded data removed]",
      "text/plain": [
       "<Figure size 432x288 with 1 Axes>"
      ]
     },
     "metadata": {
      "needs_background": "light"
     },
     "output_type": "display_data"
    }
   ],
   "source": [
    "sns.distplot(gasturbine[\"AP\"],hist=False)"
   ]
  },
  {
   "cell_type": "code",
   "execution_count": 13,
   "id": "c0d99343",
   "metadata": {},
   "outputs": [
    {
     "data": {
      "text/plain": [
       "<AxesSubplot:xlabel='AH', ylabel='Density'>"
      ]
     },
     "execution_count": 13,
     "metadata": {},
     "output_type": "execute_result"
    },
    {
     "data": {
      "image/png": "[encoded data removed]",
      "text/plain": [
       "<Figure size 432x288 with 1 Axes>"
      ]
     },
     "metadata": {
      "needs_background": "light"
     },
     "output_type": "display_data"
    }
   ],
   "source": [
    "sns.distplot(gasturbine[\"AH\"],hist=False)"
   ]
  },
  {
   "cell_type": "code",
   "execution_count": 14,
   "id": "eac104f4",
   "metadata": {},
   "outputs": [
    {
     "data": {
      "text/plain": [
       "<AxesSubplot:xlabel='AFDP', ylabel='Density'>"
      ]
     },
     "execution_count": 14,
     "metadata": {},
     "output_type": "execute_result"
    },
    {
     "data": {
      "image/png": "[encoded data removed]",
      "text/plain": [
       "<Figure size 432x288 with 1 Axes>"
      ]
     },
     "metadata": {
      "needs_background": "light"
     },
     "output_type": "display_data"
    }
   ],
   "source": [
    "sns.distplot(gasturbine[\"AFDP\"],hist=False)"
   ]
  },
  {
   "cell_type": "code",
   "execution_count": 15,
   "id": "7538a905",
   "metadata": {},
   "outputs": [
    {
     "data": {
      "text/plain": [
       "<AxesSubplot:xlabel='GTEP', ylabel='Density'>"
      ]
     },
     "execution_count": 15,
     "metadata": {},
     "output_type": "execute_result"
    },
    {
     "data": {
      "image/png": "[encoded data removed]",
      "text/plain": [
       "<Figure size 432x288 with 1 Axes>"
      ]
     },
     "metadata": {
      "needs_background": "light"
     },
     "output_type": "display_data"
    }
   ],
   "source": [
    "sns.distplot(gasturbine[\"GTEP\"],hist=False)"
   ]
  },
  {
   "cell_type": "code",
   "execution_count": 16,
   "id": "efdcc599",
   "metadata": {},
   "outputs": [
    {
     "data": {
      "text/plain": [
       "<AxesSubplot:xlabel='TIT', ylabel='Density'>"
      ]
     },
     "execution_count": 16,
     "metadata": {},
     "output_type": "execute_result"
    },
    {
     "data": {
      "image/png": "[encoded data removed]",
      "text/plain": [
       "<Figure size 432x288 with 1 Axes>"
      ]
     },
     "metadata": {
      "needs_background": "light"
     },
     "output_type": "display_data"
    }
   ],
   "source": [
    "sns.distplot(gasturbine[\"TIT\"],hist=False)"
   ]
  },
  {
   "cell_type": "code",
   "execution_count": 17,
   "id": "eed23f99",
   "metadata": {},
   "outputs": [
    {
     "data": {
      "text/plain": [
       "<AxesSubplot:xlabel='TAT', ylabel='Density'>"
      ]
     },
     "execution_count": 17,
     "metadata": {},
     "output_type": "execute_result"
    },
    {
     "data": {
      "image/png": "[encoded data removed]",
      "text/plain": [
       "<Figure size 432x288 with 1 Axes>"
      ]
     },
     "metadata": {
      "needs_background": "light"
     },
     "output_type": "display_data"
    }
   ],
   "source": [
    "sns.distplot(gasturbine[\"TAT\"],hist=False)"
   ]
  },
  {
   "cell_type": "code",
   "execution_count": 18,
   "id": "3e067084",
   "metadata": {},
   "outputs": [
    {
     "data": {
      "text/plain": [
       "<AxesSubplot:xlabel='TEY', ylabel='Density'>"
      ]
     },
     "execution_count": 18,
     "metadata": {},
     "output_type": "execute_result"
    },
    {
     "data": {
      "image/png": "[encoded data removed]",
      "text/plain": [
       "<Figure size 432x288 with 1 Axes>"
      ]
     },
     "metadata": {
      "needs_background": "light"
     },
     "output_type": "display_data"
    }
   ],
   "source": [
    "sns.distplot(gasturbine[\"TEY\"],hist=False)"
   ]
  },
  {
   "cell_type": "code",
   "execution_count": 19,
   "id": "442ab494",
   "metadata": {
    "scrolled": true
   },
   "outputs": [
    {
     "data": {
      "text/plain": [
       "<AxesSubplot:xlabel='CDP', ylabel='Density'>"
      ]
     },
     "execution_count": 19,
     "metadata": {},
     "output_type": "execute_result"
    },
    {
     "data": {
      "image/png": "[encoded data removed]",
      "text/plain": [
       "<Figure size 432x288 with 1 Axes>"
      ]
     },
     "metadata": {
      "needs_background": "light"
     },
     "output_type": "display_data"
    }
   ],
   "source": [
    "sns.distplot(gasturbine[\"CDP\"],hist=False)"
   ]
  },
  {
   "cell_type": "code",
   "execution_count": 20,
   "id": "3b98580a",
   "metadata": {},
   "outputs": [
    {
     "data": {
      "text/plain": [
       "<AxesSubplot:xlabel='CO', ylabel='Density'>"
      ]
     },
     "execution_count": 20,
     "metadata": {},
     "output_type": "execute_result"
    },
    {
     "data": {
      "image/png": "[encoded data removed]",
      "text/plain": [
       "<Figure size 432x288 with 1 Axes>"
      ]
     },
     "metadata": {
      "needs_background": "light"
     },
     "output_type": "display_data"
    }
   ],
   "source": [
    "sns.distplot(gasturbine[\"CO\"],hist=False)"
   ]
  },
  {
   "cell_type": "code",
   "execution_count": 21,
   "id": "b1ea9e4c",
   "metadata": {},
   "outputs": [
    {
     "data": {
      "text/plain": [
       "<AxesSubplot:xlabel='NOX', ylabel='Density'>"
      ]
     },
     "execution_count": 21,
     "metadata": {},
     "output_type": "execute_result"
    },
    {
     "data": {
      "image/png": "[encoded data removed]",
      "text/plain": [
       "<Figure size 432x288 with 1 Axes>"
      ]
     },
     "metadata": {
      "needs_background": "light"
     },
     "output_type": "display_data"
    }
   ],
   "source": [
    "sns.distplot(gasturbine[\"NOX\"],hist=False)"
   ]
  },
  {
   "cell_type": "code",
   "execution_count": 22,
   "id": "ec9b38a0",
   "metadata": {},
   "outputs": [],
   "source": [
    "# split into input (X) and output (Y) variables\n",
    "data=gasturbine.copy()\n",
    "\n",
    "x=data.drop(columns='TEY',axis=1)\n",
    "\n",
    "y=data[['TEY']]"
   ]
  },
  {
   "cell_type": "code",
   "execution_count": 23,
   "id": "9f284124",
   "metadata": {},
   "outputs": [
    {
     "data": {
      "text/html": [
       "<div>\n",
       "<style scoped>\n",
       "    .dataframe tbody tr th:only-of-type {\n",
       "        vertical-align: middle;\n",
       "    }\n",
       "\n",
       "    .dataframe tbody tr th {\n",
       "        vertical-align: top;\n",
       "    }\n",
       "\n",
       "    .dataframe thead th {\n",
       "        text-align: right;\n",
       "    }\n",
       "</style>\n",
       "<table border=\"1\" class=\"dataframe\">\n",
       "  <thead>\n",
       "    <tr style=\"text-align: right;\">\n",
       "      <th></th>\n",
       "      <th>AT</th>\n",
       "      <th>AP</th>\n",
       "      <th>AH</th>\n",
       "      <th>AFDP</th>\n",
       "      <th>GTEP</th>\n",
       "      <th>TIT</th>\n",
       "      <th>TAT</th>\n",
       "      <th>CDP</th>\n",
       "      <th>CO</th>\n",
       "      <th>NOX</th>\n",
       "    </tr>\n",
       "  </thead>\n",
       "  <tbody>\n",
       "    <tr>\n",
       "      <th>0</th>\n",
       "      <td>6.8594</td>\n",
       "      <td>1007.9</td>\n",
       "      <td>96.799</td>\n",
       "      <td>3.5000</td>\n",
       "      <td>19.663</td>\n",
       "      <td>1059.2</td>\n",
       "      <td>550.00</td>\n",
       "      <td>10.605</td>\n",
       "      <td>3.1547</td>\n",
       "      <td>82.722</td>\n",
       "    </tr>\n",
       "    <tr>\n",
       "      <th>1</th>\n",
       "      <td>6.7850</td>\n",
       "      <td>1008.4</td>\n",
       "      <td>97.118</td>\n",
       "      <td>3.4998</td>\n",
       "      <td>19.728</td>\n",
       "      <td>1059.3</td>\n",
       "      <td>550.00</td>\n",
       "      <td>10.598</td>\n",
       "      <td>3.2363</td>\n",
       "      <td>82.776</td>\n",
       "    </tr>\n",
       "    <tr>\n",
       "      <th>2</th>\n",
       "      <td>6.8977</td>\n",
       "      <td>1008.8</td>\n",
       "      <td>95.939</td>\n",
       "      <td>3.4824</td>\n",
       "      <td>19.779</td>\n",
       "      <td>1059.4</td>\n",
       "      <td>549.87</td>\n",
       "      <td>10.601</td>\n",
       "      <td>3.2012</td>\n",
       "      <td>82.468</td>\n",
       "    </tr>\n",
       "    <tr>\n",
       "      <th>3</th>\n",
       "      <td>7.0569</td>\n",
       "      <td>1009.2</td>\n",
       "      <td>95.249</td>\n",
       "      <td>3.4805</td>\n",
       "      <td>19.792</td>\n",
       "      <td>1059.6</td>\n",
       "      <td>549.99</td>\n",
       "      <td>10.606</td>\n",
       "      <td>3.1923</td>\n",
       "      <td>82.670</td>\n",
       "    </tr>\n",
       "    <tr>\n",
       "      <th>4</th>\n",
       "      <td>7.3978</td>\n",
       "      <td>1009.7</td>\n",
       "      <td>95.150</td>\n",
       "      <td>3.4976</td>\n",
       "      <td>19.765</td>\n",
       "      <td>1059.7</td>\n",
       "      <td>549.98</td>\n",
       "      <td>10.612</td>\n",
       "      <td>3.2484</td>\n",
       "      <td>82.311</td>\n",
       "    </tr>\n",
       "    <tr>\n",
       "      <th>...</th>\n",
       "      <td>...</td>\n",
       "      <td>...</td>\n",
       "      <td>...</td>\n",
       "      <td>...</td>\n",
       "      <td>...</td>\n",
       "      <td>...</td>\n",
       "      <td>...</td>\n",
       "      <td>...</td>\n",
       "      <td>...</td>\n",
       "      <td>...</td>\n",
       "    </tr>\n",
       "    <tr>\n",
       "      <th>15034</th>\n",
       "      <td>9.0301</td>\n",
       "      <td>1005.6</td>\n",
       "      <td>98.460</td>\n",
       "      <td>3.5421</td>\n",
       "      <td>19.164</td>\n",
       "      <td>1049.7</td>\n",
       "      <td>546.21</td>\n",
       "      <td>10.400</td>\n",
       "      <td>4.5186</td>\n",
       "      <td>79.559</td>\n",
       "    </tr>\n",
       "    <tr>\n",
       "      <th>15035</th>\n",
       "      <td>7.8879</td>\n",
       "      <td>1005.9</td>\n",
       "      <td>99.093</td>\n",
       "      <td>3.5059</td>\n",
       "      <td>19.414</td>\n",
       "      <td>1046.3</td>\n",
       "      <td>543.22</td>\n",
       "      <td>10.433</td>\n",
       "      <td>4.8470</td>\n",
       "      <td>79.917</td>\n",
       "    </tr>\n",
       "    <tr>\n",
       "      <th>15036</th>\n",
       "      <td>7.2647</td>\n",
       "      <td>1006.3</td>\n",
       "      <td>99.496</td>\n",
       "      <td>3.4770</td>\n",
       "      <td>19.530</td>\n",
       "      <td>1037.7</td>\n",
       "      <td>537.32</td>\n",
       "      <td>10.483</td>\n",
       "      <td>7.9632</td>\n",
       "      <td>90.912</td>\n",
       "    </tr>\n",
       "    <tr>\n",
       "      <th>15037</th>\n",
       "      <td>7.0060</td>\n",
       "      <td>1006.8</td>\n",
       "      <td>99.008</td>\n",
       "      <td>3.4486</td>\n",
       "      <td>19.377</td>\n",
       "      <td>1043.2</td>\n",
       "      <td>541.24</td>\n",
       "      <td>10.533</td>\n",
       "      <td>6.2494</td>\n",
       "      <td>93.227</td>\n",
       "    </tr>\n",
       "    <tr>\n",
       "      <th>15038</th>\n",
       "      <td>6.9279</td>\n",
       "      <td>1007.2</td>\n",
       "      <td>97.533</td>\n",
       "      <td>3.4275</td>\n",
       "      <td>19.306</td>\n",
       "      <td>1049.9</td>\n",
       "      <td>545.85</td>\n",
       "      <td>10.583</td>\n",
       "      <td>4.9816</td>\n",
       "      <td>92.498</td>\n",
       "    </tr>\n",
       "  </tbody>\n",
       "</table>\n",
       "<p>15039 rows × 10 columns</p>\n",
       "</div>"
      ],
      "text/plain": [
       "           AT      AP      AH    AFDP    GTEP     TIT     TAT     CDP      CO  \\\n",
       "0      6.8594  1007.9  96.799  3.5000  19.663  1059.2  550.00  10.605  3.1547   \n",
       "1      6.7850  1008.4  97.118  3.4998  19.728  1059.3  550.00  10.598  3.2363   \n",
       "2      6.8977  1008.8  95.939  3.4824  19.779  1059.4  549.87  10.601  3.2012   \n",
       "3      7.0569  1009.2  95.249  3.4805  19.792  1059.6  549.99  10.606  3.1923   \n",
       "4      7.3978  1009.7  95.150  3.4976  19.765  1059.7  549.98  10.612  3.2484   \n",
       "...       ...     ...     ...     ...     ...     ...     ...     ...     ...   \n",
       "15034  9.0301  1005.6  98.460  3.5421  19.164  1049.7  546.21  10.400  4.5186   \n",
       "15035  7.8879  1005.9  99.093  3.5059  19.414  1046.3  543.22  10.433  4.8470   \n",
       "15036  7.2647  1006.3  99.496  3.4770  19.530  1037.7  537.32  10.483  7.9632   \n",
       "15037  7.0060  1006.8  99.008  3.4486  19.377  1043.2  541.24  10.533  6.2494   \n",
       "15038  6.9279  1007.2  97.533  3.4275  19.306  1049.9  545.85  10.583  4.9816   \n",
       "\n",
       "          NOX  \n",
       "0      82.722  \n",
       "1      82.776  \n",
       "2      82.468  \n",
       "3      82.670  \n",
       "4      82.311  \n",
       "...       ...  \n",
       "15034  79.559  \n",
       "15035  79.917  \n",
       "15036  90.912  \n",
       "15037  93.227  \n",
       "15038  92.498  \n",
       "\n",
       "[15039 rows x 10 columns]"
      ]
     },
     "execution_count": 23,
     "metadata": {},
     "output_type": "execute_result"
    }
   ],
   "source": [
    "x"
   ]
  },
  {
   "cell_type": "code",
   "execution_count": 24,
   "id": "66f6f309",
   "metadata": {},
   "outputs": [
    {
     "data": {
      "text/html": [
       "<div>\n",
       "<style scoped>\n",
       "    .dataframe tbody tr th:only-of-type {\n",
       "        vertical-align: middle;\n",
       "    }\n",
       "\n",
       "    .dataframe tbody tr th {\n",
       "        vertical-align: top;\n",
       "    }\n",
       "\n",
       "    .dataframe thead th {\n",
       "        text-align: right;\n",
       "    }\n",
       "</style>\n",
       "<table border=\"1\" class=\"dataframe\">\n",
       "  <thead>\n",
       "    <tr style=\"text-align: right;\">\n",
       "      <th></th>\n",
       "      <th>TEY</th>\n",
       "    </tr>\n",
       "  </thead>\n",
       "  <tbody>\n",
       "    <tr>\n",
       "      <th>0</th>\n",
       "      <td>114.70</td>\n",
       "    </tr>\n",
       "    <tr>\n",
       "      <th>1</th>\n",
       "      <td>114.72</td>\n",
       "    </tr>\n",
       "    <tr>\n",
       "      <th>2</th>\n",
       "      <td>114.71</td>\n",
       "    </tr>\n",
       "    <tr>\n",
       "      <th>3</th>\n",
       "      <td>114.72</td>\n",
       "    </tr>\n",
       "    <tr>\n",
       "      <th>4</th>\n",
       "      <td>114.72</td>\n",
       "    </tr>\n",
       "    <tr>\n",
       "      <th>...</th>\n",
       "      <td>...</td>\n",
       "    </tr>\n",
       "    <tr>\n",
       "      <th>15034</th>\n",
       "      <td>111.61</td>\n",
       "    </tr>\n",
       "    <tr>\n",
       "      <th>15035</th>\n",
       "      <td>111.78</td>\n",
       "    </tr>\n",
       "    <tr>\n",
       "      <th>15036</th>\n",
       "      <td>110.19</td>\n",
       "    </tr>\n",
       "    <tr>\n",
       "      <th>15037</th>\n",
       "      <td>110.74</td>\n",
       "    </tr>\n",
       "    <tr>\n",
       "      <th>15038</th>\n",
       "      <td>111.58</td>\n",
       "    </tr>\n",
       "  </tbody>\n",
       "</table>\n",
       "<p>15039 rows × 1 columns</p>\n",
       "</div>"
      ],
      "text/plain": [
       "          TEY\n",
       "0      114.70\n",
       "1      114.72\n",
       "2      114.71\n",
       "3      114.72\n",
       "4      114.72\n",
       "...       ...\n",
       "15034  111.61\n",
       "15035  111.78\n",
       "15036  110.19\n",
       "15037  110.74\n",
       "15038  111.58\n",
       "\n",
       "[15039 rows x 1 columns]"
      ]
     },
     "execution_count": 24,
     "metadata": {},
     "output_type": "execute_result"
    }
   ],
   "source": [
    "y"
   ]
  },
  {
   "cell_type": "code",
   "execution_count": 25,
   "id": "bc345a15",
   "metadata": {},
   "outputs": [
    {
     "data": {
      "text/plain": [
       "array([[-1.4397781 , -0.82664395,  1.28143632, ..., -1.35733078,\n",
       "         0.53201195,  1.3878449 ],\n",
       "       [-1.44960109, -0.74864748,  1.30456402, ..., -1.36367619,\n",
       "         0.56873344,  1.39300237],\n",
       "       [-1.43472138, -0.68625031,  1.21908576, ..., -1.36095673,\n",
       "         0.5529378 ,  1.36358566],\n",
       "       ...,\n",
       "       [-1.38626659, -1.07623263,  1.47697056, ..., -1.46792219,\n",
       "         2.69592467,  2.17006209],\n",
       "       [-1.42042259, -0.99823616,  1.44159024, ..., -1.42259784,\n",
       "         1.9246834 ,  2.391165  ],\n",
       "       [-1.43073409, -0.93583899,  1.33465179, ..., -1.37727349,\n",
       "         1.35415028,  2.32153907]])"
      ]
     },
     "execution_count": 25,
     "metadata": {},
     "output_type": "execute_result"
    }
   ],
   "source": [
    "from sklearn.preprocessing import StandardScaler\n",
    "std=StandardScaler()\n",
    "scaled_x=std.fit_transform(x)\n",
    "scaled_x"
   ]
  },
  {
   "cell_type": "code",
   "execution_count": 26,
   "id": "1bfcdaba",
   "metadata": {},
   "outputs": [],
   "source": [
    "#model Building\n",
    "seq_model=Sequential()"
   ]
  },
  {
   "cell_type": "code",
   "execution_count": 27,
   "id": "5bcea95b",
   "metadata": {},
   "outputs": [
    {
     "name": "stdout",
     "output_type": "stream",
     "text": [
      "Model: \"sequential\"\n",
      "_________________________________________________________________\n",
      " Layer (type)                Output Shape              Param #   \n",
      "=================================================================\n",
      " dense (Dense)               (None, 50)                550       \n",
      "                                                                 \n",
      " dense_1 (Dense)             (None, 25)                1275      \n",
      "                                                                 \n",
      " dense_2 (Dense)             (None, 1)                 26        \n",
      "                                                                 \n",
      "=================================================================\n",
      "Total params: 1,851\n",
      "Trainable params: 1,851\n",
      "Non-trainable params: 0\n",
      "_________________________________________________________________\n"
     ]
    }
   ],
   "source": [
    "seq_model.add(Dense(50,input_dim=10, kernel_initializer='normal', activation='relu'))\n",
    "seq_model.add(Dense(25,activation='relu'))\n",
    "seq_model.add(Dense(1,activation='relu'))\n",
    "seq_model.summary()\n",
    "seq_model.compile(optimizer=\"adam\",loss=\"mse\",metrics=['mse','mae'])"
   ]
  },
  {
   "cell_type": "code",
   "execution_count": 28,
   "id": "43c53fa9",
   "metadata": {},
   "outputs": [
    {
     "name": "stdout",
     "output_type": "stream",
     "text": [
      "Epoch 1/250\n",
      "12/12 [==============================] - 1s 20ms/step - loss: 18507.7773 - mse: 18507.7773 - mae: 135.1129 - val_loss: 17505.1641 - val_mse: 17505.1641 - val_mae: 131.4153\n",
      "Epoch 2/250\n",
      "12/12 [==============================] - 0s 4ms/step - loss: 18507.7773 - mse: 18507.7773 - mae: 135.1129 - val_loss: 17505.1641 - val_mse: 17505.1641 - val_mae: 131.4153\n",
      "Epoch 3/250\n",
      "12/12 [==============================] - 0s 4ms/step - loss: 18507.7773 - mse: 18507.7773 - mae: 135.1129 - val_loss: 17505.1641 - val_mse: 17505.1641 - val_mae: 131.4153\n",
      "Epoch 4/250\n",
      "12/12 [==============================] - 0s 4ms/step - loss: 18507.7754 - mse: 18507.7754 - mae: 135.1129 - val_loss: 17505.1641 - val_mse: 17505.1641 - val_mae: 131.4153\n",
      "Epoch 5/250\n",
      "12/12 [==============================] - 0s 4ms/step - loss: 18507.7754 - mse: 18507.7754 - mae: 135.1129 - val_loss: 17505.1641 - val_mse: 17505.1641 - val_mae: 131.4153\n",
      "Epoch 6/250\n",
      "12/12 [==============================] - 0s 4ms/step - loss: 18507.7754 - mse: 18507.7754 - mae: 135.1129 - val_loss: 17505.1641 - val_mse: 17505.1641 - val_mae: 131.4153\n",
      "Epoch 7/250\n",
      "12/12 [==============================] - 0s 4ms/step - loss: 18507.7773 - mse: 18507.7773 - mae: 135.1129 - val_loss: 17505.1641 - val_mse: 17505.1641 - val_mae: 131.4153\n",
      "Epoch 8/250\n",
      "12/12 [==============================] - 0s 4ms/step - loss: 18507.7773 - mse: 18507.7773 - mae: 135.1129 - val_loss: 17505.1641 - val_mse: 17505.1641 - val_mae: 131.4153\n",
      "Epoch 9/250\n",
      "12/12 [==============================] - 0s 4ms/step - loss: 18507.7793 - mse: 18507.7793 - mae: 135.1129 - val_loss: 17505.1641 - val_mse: 17505.1641 - val_mae: 131.4153\n",
      "Epoch 10/250\n",
      "12/12 [==============================] - 0s 4ms/step - loss: 18507.7773 - mse: 18507.7773 - mae: 135.1129 - val_loss: 17505.1641 - val_mse: 17505.1641 - val_mae: 131.4153\n",
      "Epoch 11/250\n",
      "12/12 [==============================] - 0s 4ms/step - loss: 18507.7773 - mse: 18507.7773 - mae: 135.1129 - val_loss: 17505.1641 - val_mse: 17505.1641 - val_mae: 131.4153\n",
      "Epoch 12/250\n",
      "12/12 [==============================] - 0s 4ms/step - loss: 18507.7754 - mse: 18507.7754 - mae: 135.1129 - val_loss: 17505.1641 - val_mse: 17505.1641 - val_mae: 131.4153\n",
      "Epoch 13/250\n",
      "12/12 [==============================] - 0s 4ms/step - loss: 18507.7793 - mse: 18507.7793 - mae: 135.1129 - val_loss: 17505.1641 - val_mse: 17505.1641 - val_mae: 131.4153\n",
      "Epoch 14/250\n",
      "12/12 [==============================] - 0s 4ms/step - loss: 18507.7754 - mse: 18507.7754 - mae: 135.1129 - val_loss: 17505.1641 - val_mse: 17505.1641 - val_mae: 131.4153\n",
      "Epoch 15/250\n",
      "12/12 [==============================] - 0s 5ms/step - loss: 18507.7773 - mse: 18507.7773 - mae: 135.1129 - val_loss: 17505.1641 - val_mse: 17505.1641 - val_mae: 131.4153\n",
      "Epoch 16/250\n",
      "12/12 [==============================] - 0s 4ms/step - loss: 18507.7773 - mse: 18507.7773 - mae: 135.1129 - val_loss: 17505.1641 - val_mse: 17505.1641 - val_mae: 131.4153\n",
      "Epoch 17/250\n",
      "12/12 [==============================] - 0s 4ms/step - loss: 18507.7773 - mse: 18507.7773 - mae: 135.1129 - val_loss: 17505.1641 - val_mse: 17505.1641 - val_mae: 131.4153\n",
      "Epoch 18/250\n",
      "12/12 [==============================] - 0s 5ms/step - loss: 18507.7773 - mse: 18507.7773 - mae: 135.1129 - val_loss: 17505.1641 - val_mse: 17505.1641 - val_mae: 131.4153\n",
      "Epoch 19/250\n",
      "12/12 [==============================] - 0s 5ms/step - loss: 18507.7773 - mse: 18507.7773 - mae: 135.1129 - val_loss: 17505.1641 - val_mse: 17505.1641 - val_mae: 131.4153\n",
      "Epoch 20/250\n",
      "12/12 [==============================] - 0s 5ms/step - loss: 18507.7793 - mse: 18507.7793 - mae: 135.1129 - val_loss: 17505.1641 - val_mse: 17505.1641 - val_mae: 131.4153\n",
      "Epoch 21/250\n",
      "12/12 [==============================] - 0s 5ms/step - loss: 18507.7773 - mse: 18507.7773 - mae: 135.1129 - val_loss: 17505.1641 - val_mse: 17505.1641 - val_mae: 131.4153\n",
      "Epoch 22/250\n",
      "12/12 [==============================] - 0s 4ms/step - loss: 18507.7773 - mse: 18507.7773 - mae: 135.1129 - val_loss: 17505.1641 - val_mse: 17505.1641 - val_mae: 131.4153\n",
      "Epoch 23/250\n",
      "12/12 [==============================] - 0s 4ms/step - loss: 18507.7773 - mse: 18507.7773 - mae: 135.1129 - val_loss: 17505.1641 - val_mse: 17505.1641 - val_mae: 131.4153\n",
      "Epoch 24/250\n",
      "12/12 [==============================] - 0s 4ms/step - loss: 18507.7773 - mse: 18507.7773 - mae: 135.1129 - val_loss: 17505.1641 - val_mse: 17505.1641 - val_mae: 131.4153\n",
      "Epoch 25/250\n",
      "12/12 [==============================] - 0s 4ms/step - loss: 18507.7793 - mse: 18507.7793 - mae: 135.1129 - val_loss: 17505.1641 - val_mse: 17505.1641 - val_mae: 131.4153\n",
      "Epoch 26/250\n",
      "12/12 [==============================] - 0s 4ms/step - loss: 18507.7773 - mse: 18507.7773 - mae: 135.1129 - val_loss: 17505.1641 - val_mse: 17505.1641 - val_mae: 131.4153\n",
      "Epoch 27/250\n",
      "12/12 [==============================] - 0s 4ms/step - loss: 18507.7754 - mse: 18507.7754 - mae: 135.1129 - val_loss: 17505.1641 - val_mse: 17505.1641 - val_mae: 131.4153\n",
      "Epoch 28/250\n",
      "12/12 [==============================] - 0s 5ms/step - loss: 18507.7754 - mse: 18507.7754 - mae: 135.1129 - val_loss: 17505.1641 - val_mse: 17505.1641 - val_mae: 131.4153\n",
      "Epoch 29/250\n",
      "12/12 [==============================] - 0s 4ms/step - loss: 18507.7773 - mse: 18507.7773 - mae: 135.1129 - val_loss: 17505.1641 - val_mse: 17505.1641 - val_mae: 131.4153\n",
      "Epoch 30/250\n",
      "12/12 [==============================] - 0s 4ms/step - loss: 18507.7754 - mse: 18507.7754 - mae: 135.1129 - val_loss: 17505.1641 - val_mse: 17505.1641 - val_mae: 131.4153\n",
      "Epoch 31/250\n",
      "12/12 [==============================] - 0s 4ms/step - loss: 18507.7773 - mse: 18507.7773 - mae: 135.1129 - val_loss: 17505.1641 - val_mse: 17505.1641 - val_mae: 131.4153\n",
      "Epoch 32/250\n",
      "12/12 [==============================] - 0s 4ms/step - loss: 18507.7773 - mse: 18507.7773 - mae: 135.1129 - val_loss: 17505.1641 - val_mse: 17505.1641 - val_mae: 131.4153\n",
      "Epoch 33/250\n",
      "12/12 [==============================] - 0s 4ms/step - loss: 18507.7773 - mse: 18507.7773 - mae: 135.1129 - val_loss: 17505.1641 - val_mse: 17505.1641 - val_mae: 131.4153\n",
      "Epoch 34/250\n",
      "12/12 [==============================] - 0s 4ms/step - loss: 18507.7793 - mse: 18507.7793 - mae: 135.1129 - val_loss: 17505.1641 - val_mse: 17505.1641 - val_mae: 131.4153\n",
      "Epoch 35/250\n",
      "12/12 [==============================] - 0s 5ms/step - loss: 18507.7793 - mse: 18507.7793 - mae: 135.1129 - val_loss: 17505.1641 - val_mse: 17505.1641 - val_mae: 131.4153\n",
      "Epoch 36/250\n",
      "12/12 [==============================] - 0s 3ms/step - loss: 18507.7773 - mse: 18507.7773 - mae: 135.1129 - val_loss: 17505.1641 - val_mse: 17505.1641 - val_mae: 131.4153\n",
      "Epoch 37/250\n",
      "12/12 [==============================] - 0s 4ms/step - loss: 18507.7793 - mse: 18507.7793 - mae: 135.1129 - val_loss: 17505.1641 - val_mse: 17505.1641 - val_mae: 131.4153\n",
      "Epoch 38/250\n",
      "12/12 [==============================] - 0s 4ms/step - loss: 18507.7754 - mse: 18507.7754 - mae: 135.1129 - val_loss: 17505.1641 - val_mse: 17505.1641 - val_mae: 131.4153\n",
      "Epoch 39/250\n",
      "12/12 [==============================] - 0s 3ms/step - loss: 18507.7773 - mse: 18507.7773 - mae: 135.1129 - val_loss: 17505.1641 - val_mse: 17505.1641 - val_mae: 131.4153\n",
      "Epoch 40/250\n",
      "12/12 [==============================] - 0s 4ms/step - loss: 18507.7793 - mse: 18507.7793 - mae: 135.1129 - val_loss: 17505.1641 - val_mse: 17505.1641 - val_mae: 131.4153\n",
      "Epoch 41/250\n",
      "12/12 [==============================] - 0s 4ms/step - loss: 18507.7773 - mse: 18507.7773 - mae: 135.1129 - val_loss: 17505.1641 - val_mse: 17505.1641 - val_mae: 131.4153\n",
      "Epoch 42/250\n",
      "12/12 [==============================] - 0s 4ms/step - loss: 18507.7793 - mse: 18507.7793 - mae: 135.1129 - val_loss: 17505.1641 - val_mse: 17505.1641 - val_mae: 131.4153\n",
      "Epoch 43/250\n",
      "12/12 [==============================] - 0s 3ms/step - loss: 18507.7793 - mse: 18507.7793 - mae: 135.1129 - val_loss: 17505.1641 - val_mse: 17505.1641 - val_mae: 131.4153\n",
      "Epoch 44/250\n",
      "12/12 [==============================] - 0s 3ms/step - loss: 18507.7793 - mse: 18507.7793 - mae: 135.1129 - val_loss: 17505.1641 - val_mse: 17505.1641 - val_mae: 131.4153\n",
      "Epoch 45/250\n"
     ]
    },
    {
     "name": "stdout",
     "output_type": "stream",
     "text": [
      "12/12 [==============================] - 0s 3ms/step - loss: 18507.7754 - mse: 18507.7754 - mae: 135.1129 - val_loss: 17505.1641 - val_mse: 17505.1641 - val_mae: 131.4153\n",
      "Epoch 46/250\n",
      "12/12 [==============================] - 0s 4ms/step - loss: 18507.7773 - mse: 18507.7773 - mae: 135.1129 - val_loss: 17505.1641 - val_mse: 17505.1641 - val_mae: 131.4153\n",
      "Epoch 47/250\n",
      "12/12 [==============================] - 0s 4ms/step - loss: 18507.7793 - mse: 18507.7793 - mae: 135.1129 - val_loss: 17505.1641 - val_mse: 17505.1641 - val_mae: 131.4153\n",
      "Epoch 48/250\n",
      "12/12 [==============================] - 0s 4ms/step - loss: 18507.7734 - mse: 18507.7734 - mae: 135.1129 - val_loss: 17505.1641 - val_mse: 17505.1641 - val_mae: 131.4153\n",
      "Epoch 49/250\n",
      "12/12 [==============================] - 0s 4ms/step - loss: 18507.7773 - mse: 18507.7773 - mae: 135.1129 - val_loss: 17505.1641 - val_mse: 17505.1641 - val_mae: 131.4153\n",
      "Epoch 50/250\n",
      "12/12 [==============================] - 0s 3ms/step - loss: 18507.7793 - mse: 18507.7793 - mae: 135.1129 - val_loss: 17505.1641 - val_mse: 17505.1641 - val_mae: 131.4153\n",
      "Epoch 51/250\n",
      "12/12 [==============================] - 0s 4ms/step - loss: 18507.7773 - mse: 18507.7773 - mae: 135.1129 - val_loss: 17505.1641 - val_mse: 17505.1641 - val_mae: 131.4153\n",
      "Epoch 52/250\n",
      "12/12 [==============================] - 0s 4ms/step - loss: 18507.7793 - mse: 18507.7793 - mae: 135.1129 - val_loss: 17505.1641 - val_mse: 17505.1641 - val_mae: 131.4153\n",
      "Epoch 53/250\n",
      "12/12 [==============================] - 0s 4ms/step - loss: 18507.7773 - mse: 18507.7773 - mae: 135.1129 - val_loss: 17505.1641 - val_mse: 17505.1641 - val_mae: 131.4153\n",
      "Epoch 54/250\n",
      "12/12 [==============================] - 0s 3ms/step - loss: 18507.7793 - mse: 18507.7793 - mae: 135.1129 - val_loss: 17505.1641 - val_mse: 17505.1641 - val_mae: 131.4153\n",
      "Epoch 55/250\n",
      "12/12 [==============================] - 0s 4ms/step - loss: 18507.7773 - mse: 18507.7773 - mae: 135.1129 - val_loss: 17505.1641 - val_mse: 17505.1641 - val_mae: 131.4153\n",
      "Epoch 56/250\n",
      "12/12 [==============================] - 0s 4ms/step - loss: 18507.7754 - mse: 18507.7754 - mae: 135.1129 - val_loss: 17505.1641 - val_mse: 17505.1641 - val_mae: 131.4153\n",
      "Epoch 57/250\n",
      "12/12 [==============================] - 0s 4ms/step - loss: 18507.7793 - mse: 18507.7793 - mae: 135.1129 - val_loss: 17505.1641 - val_mse: 17505.1641 - val_mae: 131.4153\n",
      "Epoch 58/250\n",
      "12/12 [==============================] - 0s 5ms/step - loss: 18507.7773 - mse: 18507.7773 - mae: 135.1129 - val_loss: 17505.1641 - val_mse: 17505.1641 - val_mae: 131.4153\n",
      "Epoch 59/250\n",
      "12/12 [==============================] - 0s 4ms/step - loss: 18507.7773 - mse: 18507.7773 - mae: 135.1129 - val_loss: 17505.1641 - val_mse: 17505.1641 - val_mae: 131.4153\n",
      "Epoch 60/250\n",
      "12/12 [==============================] - 0s 5ms/step - loss: 18507.7793 - mse: 18507.7793 - mae: 135.1129 - val_loss: 17505.1641 - val_mse: 17505.1641 - val_mae: 131.4153\n",
      "Epoch 61/250\n",
      "12/12 [==============================] - 0s 5ms/step - loss: 18507.7773 - mse: 18507.7773 - mae: 135.1129 - val_loss: 17505.1641 - val_mse: 17505.1641 - val_mae: 131.4153\n",
      "Epoch 62/250\n",
      "12/12 [==============================] - 0s 4ms/step - loss: 18507.7773 - mse: 18507.7773 - mae: 135.1129 - val_loss: 17505.1641 - val_mse: 17505.1641 - val_mae: 131.4153\n",
      "Epoch 63/250\n",
      "12/12 [==============================] - 0s 5ms/step - loss: 18507.7773 - mse: 18507.7773 - mae: 135.1129 - val_loss: 17505.1641 - val_mse: 17505.1641 - val_mae: 131.4153\n",
      "Epoch 64/250\n",
      "12/12 [==============================] - 0s 4ms/step - loss: 18507.7793 - mse: 18507.7793 - mae: 135.1129 - val_loss: 17505.1641 - val_mse: 17505.1641 - val_mae: 131.4153\n",
      "Epoch 65/250\n",
      "12/12 [==============================] - 0s 5ms/step - loss: 18507.7754 - mse: 18507.7754 - mae: 135.1129 - val_loss: 17505.1641 - val_mse: 17505.1641 - val_mae: 131.4153\n",
      "Epoch 66/250\n",
      "12/12 [==============================] - 0s 4ms/step - loss: 18507.7773 - mse: 18507.7773 - mae: 135.1129 - val_loss: 17505.1641 - val_mse: 17505.1641 - val_mae: 131.4153\n",
      "Epoch 67/250\n",
      "12/12 [==============================] - 0s 4ms/step - loss: 18507.7754 - mse: 18507.7754 - mae: 135.1129 - val_loss: 17505.1641 - val_mse: 17505.1641 - val_mae: 131.4153\n",
      "Epoch 68/250\n",
      "12/12 [==============================] - 0s 5ms/step - loss: 18507.7773 - mse: 18507.7773 - mae: 135.1129 - val_loss: 17505.1641 - val_mse: 17505.1641 - val_mae: 131.4153\n",
      "Epoch 69/250\n",
      "12/12 [==============================] - 0s 4ms/step - loss: 18507.7773 - mse: 18507.7773 - mae: 135.1129 - val_loss: 17505.1641 - val_mse: 17505.1641 - val_mae: 131.4153\n",
      "Epoch 70/250\n",
      "12/12 [==============================] - 0s 4ms/step - loss: 18507.7773 - mse: 18507.7773 - mae: 135.1129 - val_loss: 17505.1641 - val_mse: 17505.1641 - val_mae: 131.4153\n",
      "Epoch 71/250\n",
      "12/12 [==============================] - 0s 5ms/step - loss: 18507.7773 - mse: 18507.7773 - mae: 135.1129 - val_loss: 17505.1641 - val_mse: 17505.1641 - val_mae: 131.4153\n",
      "Epoch 72/250\n",
      "12/12 [==============================] - 0s 4ms/step - loss: 18507.7773 - mse: 18507.7773 - mae: 135.1129 - val_loss: 17505.1641 - val_mse: 17505.1641 - val_mae: 131.4153\n",
      "Epoch 73/250\n",
      "12/12 [==============================] - 0s 4ms/step - loss: 18507.7773 - mse: 18507.7773 - mae: 135.1129 - val_loss: 17505.1641 - val_mse: 17505.1641 - val_mae: 131.4153\n",
      "Epoch 74/250\n",
      "12/12 [==============================] - 0s 4ms/step - loss: 18507.7793 - mse: 18507.7793 - mae: 135.1129 - val_loss: 17505.1641 - val_mse: 17505.1641 - val_mae: 131.4153\n",
      "Epoch 75/250\n",
      "12/12 [==============================] - 0s 4ms/step - loss: 18507.7734 - mse: 18507.7734 - mae: 135.1129 - val_loss: 17505.1641 - val_mse: 17505.1641 - val_mae: 131.4153\n",
      "Epoch 76/250\n",
      "12/12 [==============================] - 0s 5ms/step - loss: 18507.7754 - mse: 18507.7754 - mae: 135.1129 - val_loss: 17505.1641 - val_mse: 17505.1641 - val_mae: 131.4153\n",
      "Epoch 77/250\n",
      "12/12 [==============================] - 0s 4ms/step - loss: 18507.7754 - mse: 18507.7754 - mae: 135.1129 - val_loss: 17505.1641 - val_mse: 17505.1641 - val_mae: 131.4153\n",
      "Epoch 78/250\n",
      "12/12 [==============================] - 0s 4ms/step - loss: 18507.7754 - mse: 18507.7754 - mae: 135.1129 - val_loss: 17505.1641 - val_mse: 17505.1641 - val_mae: 131.4153\n",
      "Epoch 79/250\n",
      "12/12 [==============================] - 0s 4ms/step - loss: 18507.7773 - mse: 18507.7773 - mae: 135.1129 - val_loss: 17505.1641 - val_mse: 17505.1641 - val_mae: 131.4153\n",
      "Epoch 80/250\n",
      "12/12 [==============================] - 0s 4ms/step - loss: 18507.7793 - mse: 18507.7793 - mae: 135.1129 - val_loss: 17505.1641 - val_mse: 17505.1641 - val_mae: 131.4153\n",
      "Epoch 81/250\n",
      "12/12 [==============================] - 0s 4ms/step - loss: 18507.7793 - mse: 18507.7793 - mae: 135.1129 - val_loss: 17505.1641 - val_mse: 17505.1641 - val_mae: 131.4153\n",
      "Epoch 82/250\n",
      "12/12 [==============================] - 0s 4ms/step - loss: 18507.7754 - mse: 18507.7754 - mae: 135.1129 - val_loss: 17505.1641 - val_mse: 17505.1641 - val_mae: 131.4153\n",
      "Epoch 83/250\n",
      "12/12 [==============================] - 0s 4ms/step - loss: 18507.7793 - mse: 18507.7793 - mae: 135.1129 - val_loss: 17505.1641 - val_mse: 17505.1641 - val_mae: 131.4153\n",
      "Epoch 84/250\n",
      "12/12 [==============================] - 0s 4ms/step - loss: 18507.7773 - mse: 18507.7773 - mae: 135.1129 - val_loss: 17505.1641 - val_mse: 17505.1641 - val_mae: 131.4153\n",
      "Epoch 85/250\n",
      "12/12 [==============================] - 0s 5ms/step - loss: 18507.7754 - mse: 18507.7754 - mae: 135.1129 - val_loss: 17505.1641 - val_mse: 17505.1641 - val_mae: 131.4153\n",
      "Epoch 86/250\n",
      "12/12 [==============================] - 0s 4ms/step - loss: 18507.7773 - mse: 18507.7773 - mae: 135.1129 - val_loss: 17505.1641 - val_mse: 17505.1641 - val_mae: 131.4153\n",
      "Epoch 87/250\n",
      "12/12 [==============================] - 0s 4ms/step - loss: 18507.7773 - mse: 18507.7773 - mae: 135.1129 - val_loss: 17505.1641 - val_mse: 17505.1641 - val_mae: 131.4153\n",
      "Epoch 88/250\n",
      "12/12 [==============================] - 0s 4ms/step - loss: 18507.7754 - mse: 18507.7754 - mae: 135.1129 - val_loss: 17505.1641 - val_mse: 17505.1641 - val_mae: 131.4153\n",
      "Epoch 89/250\n"
     ]
    },
    {
     "name": "stdout",
     "output_type": "stream",
     "text": [
      "12/12 [==============================] - 0s 3ms/step - loss: 18507.7793 - mse: 18507.7793 - mae: 135.1129 - val_loss: 17505.1641 - val_mse: 17505.1641 - val_mae: 131.4153\n",
      "Epoch 90/250\n",
      "12/12 [==============================] - 0s 4ms/step - loss: 18507.7773 - mse: 18507.7773 - mae: 135.1129 - val_loss: 17505.1641 - val_mse: 17505.1641 - val_mae: 131.4153\n",
      "Epoch 91/250\n",
      "12/12 [==============================] - 0s 4ms/step - loss: 18507.7754 - mse: 18507.7754 - mae: 135.1129 - val_loss: 17505.1641 - val_mse: 17505.1641 - val_mae: 131.4153\n",
      "Epoch 92/250\n",
      "12/12 [==============================] - 0s 4ms/step - loss: 18507.7773 - mse: 18507.7773 - mae: 135.1129 - val_loss: 17505.1641 - val_mse: 17505.1641 - val_mae: 131.4153\n",
      "Epoch 93/250\n",
      "12/12 [==============================] - 0s 5ms/step - loss: 18507.7773 - mse: 18507.7773 - mae: 135.1129 - val_loss: 17505.1641 - val_mse: 17505.1641 - val_mae: 131.4153\n",
      "Epoch 94/250\n",
      "12/12 [==============================] - 0s 5ms/step - loss: 18507.7754 - mse: 18507.7754 - mae: 135.1129 - val_loss: 17505.1641 - val_mse: 17505.1641 - val_mae: 131.4153\n",
      "Epoch 95/250\n",
      "12/12 [==============================] - 0s 5ms/step - loss: 18507.7734 - mse: 18507.7734 - mae: 135.1129 - val_loss: 17505.1641 - val_mse: 17505.1641 - val_mae: 131.4153\n",
      "Epoch 96/250\n",
      "12/12 [==============================] - 0s 5ms/step - loss: 18507.7754 - mse: 18507.7754 - mae: 135.1129 - val_loss: 17505.1641 - val_mse: 17505.1641 - val_mae: 131.4153\n",
      "Epoch 97/250\n",
      "12/12 [==============================] - 0s 5ms/step - loss: 18507.7754 - mse: 18507.7754 - mae: 135.1129 - val_loss: 17505.1641 - val_mse: 17505.1641 - val_mae: 131.4153\n",
      "Epoch 98/250\n",
      "12/12 [==============================] - 0s 4ms/step - loss: 18507.7773 - mse: 18507.7773 - mae: 135.1129 - val_loss: 17505.1641 - val_mse: 17505.1641 - val_mae: 131.4153\n",
      "Epoch 99/250\n",
      "12/12 [==============================] - 0s 4ms/step - loss: 18507.7773 - mse: 18507.7773 - mae: 135.1129 - val_loss: 17505.1641 - val_mse: 17505.1641 - val_mae: 131.4153\n",
      "Epoch 100/250\n",
      "12/12 [==============================] - 0s 4ms/step - loss: 18507.7793 - mse: 18507.7793 - mae: 135.1129 - val_loss: 17505.1641 - val_mse: 17505.1641 - val_mae: 131.4153\n",
      "Epoch 101/250\n",
      "12/12 [==============================] - 0s 4ms/step - loss: 18507.7773 - mse: 18507.7773 - mae: 135.1129 - val_loss: 17505.1641 - val_mse: 17505.1641 - val_mae: 131.4153\n",
      "Epoch 102/250\n",
      "12/12 [==============================] - 0s 4ms/step - loss: 18507.7773 - mse: 18507.7773 - mae: 135.1129 - val_loss: 17505.1641 - val_mse: 17505.1641 - val_mae: 131.4153\n",
      "Epoch 103/250\n",
      "12/12 [==============================] - 0s 5ms/step - loss: 18507.7793 - mse: 18507.7793 - mae: 135.1129 - val_loss: 17505.1641 - val_mse: 17505.1641 - val_mae: 131.4153\n",
      "Epoch 104/250\n",
      "12/12 [==============================] - 0s 4ms/step - loss: 18507.7793 - mse: 18507.7793 - mae: 135.1129 - val_loss: 17505.1641 - val_mse: 17505.1641 - val_mae: 131.4153\n",
      "Epoch 105/250\n",
      "12/12 [==============================] - 0s 4ms/step - loss: 18507.7773 - mse: 18507.7773 - mae: 135.1129 - val_loss: 17505.1641 - val_mse: 17505.1641 - val_mae: 131.4153\n",
      "Epoch 106/250\n",
      "12/12 [==============================] - 0s 4ms/step - loss: 18507.7773 - mse: 18507.7773 - mae: 135.1129 - val_loss: 17505.1641 - val_mse: 17505.1641 - val_mae: 131.4153\n",
      "Epoch 107/250\n",
      "12/12 [==============================] - 0s 4ms/step - loss: 18507.7793 - mse: 18507.7793 - mae: 135.1129 - val_loss: 17505.1641 - val_mse: 17505.1641 - val_mae: 131.4153\n",
      "Epoch 108/250\n",
      "12/12 [==============================] - 0s 4ms/step - loss: 18507.7773 - mse: 18507.7773 - mae: 135.1129 - val_loss: 17505.1641 - val_mse: 17505.1641 - val_mae: 131.4153\n",
      "Epoch 109/250\n",
      "12/12 [==============================] - 0s 4ms/step - loss: 18507.7793 - mse: 18507.7793 - mae: 135.1129 - val_loss: 17505.1641 - val_mse: 17505.1641 - val_mae: 131.4153\n",
      "Epoch 110/250\n",
      "12/12 [==============================] - 0s 5ms/step - loss: 18507.7793 - mse: 18507.7793 - mae: 135.1129 - val_loss: 17505.1641 - val_mse: 17505.1641 - val_mae: 131.4153\n",
      "Epoch 111/250\n",
      "12/12 [==============================] - 0s 5ms/step - loss: 18507.7773 - mse: 18507.7773 - mae: 135.1129 - val_loss: 17505.1641 - val_mse: 17505.1641 - val_mae: 131.4153\n",
      "Epoch 112/250\n",
      "12/12 [==============================] - 0s 5ms/step - loss: 18507.7754 - mse: 18507.7754 - mae: 135.1129 - val_loss: 17505.1641 - val_mse: 17505.1641 - val_mae: 131.4153\n",
      "Epoch 113/250\n",
      "12/12 [==============================] - 0s 5ms/step - loss: 18507.7793 - mse: 18507.7793 - mae: 135.1129 - val_loss: 17505.1641 - val_mse: 17505.1641 - val_mae: 131.4153\n",
      "Epoch 114/250\n",
      "12/12 [==============================] - 0s 4ms/step - loss: 18507.7754 - mse: 18507.7754 - mae: 135.1129 - val_loss: 17505.1641 - val_mse: 17505.1641 - val_mae: 131.4153\n",
      "Epoch 115/250\n",
      "12/12 [==============================] - 0s 4ms/step - loss: 18507.7754 - mse: 18507.7754 - mae: 135.1129 - val_loss: 17505.1641 - val_mse: 17505.1641 - val_mae: 131.4153\n",
      "Epoch 116/250\n",
      "12/12 [==============================] - 0s 4ms/step - loss: 18507.7773 - mse: 18507.7773 - mae: 135.1129 - val_loss: 17505.1641 - val_mse: 17505.1641 - val_mae: 131.4153\n",
      "Epoch 117/250\n",
      "12/12 [==============================] - 0s 3ms/step - loss: 18507.7773 - mse: 18507.7773 - mae: 135.1129 - val_loss: 17505.1641 - val_mse: 17505.1641 - val_mae: 131.4153\n",
      "Epoch 118/250\n",
      "12/12 [==============================] - 0s 5ms/step - loss: 18507.7773 - mse: 18507.7773 - mae: 135.1129 - val_loss: 17505.1641 - val_mse: 17505.1641 - val_mae: 131.4153\n",
      "Epoch 119/250\n",
      "12/12 [==============================] - 0s 4ms/step - loss: 18507.7793 - mse: 18507.7793 - mae: 135.1129 - val_loss: 17505.1641 - val_mse: 17505.1641 - val_mae: 131.4153\n",
      "Epoch 120/250\n",
      "12/12 [==============================] - 0s 6ms/step - loss: 18507.7793 - mse: 18507.7793 - mae: 135.1129 - val_loss: 17505.1641 - val_mse: 17505.1641 - val_mae: 131.4153\n",
      "Epoch 121/250\n",
      "12/12 [==============================] - 0s 4ms/step - loss: 18507.7793 - mse: 18507.7793 - mae: 135.1129 - val_loss: 17505.1641 - val_mse: 17505.1641 - val_mae: 131.4153\n",
      "Epoch 122/250\n",
      "12/12 [==============================] - 0s 4ms/step - loss: 18507.7793 - mse: 18507.7793 - mae: 135.1129 - val_loss: 17505.1641 - val_mse: 17505.1641 - val_mae: 131.4153\n",
      "Epoch 123/250\n",
      "12/12 [==============================] - 0s 4ms/step - loss: 18507.7773 - mse: 18507.7773 - mae: 135.1129 - val_loss: 17505.1641 - val_mse: 17505.1641 - val_mae: 131.4153\n",
      "Epoch 124/250\n",
      "12/12 [==============================] - 0s 4ms/step - loss: 18507.7793 - mse: 18507.7793 - mae: 135.1129 - val_loss: 17505.1641 - val_mse: 17505.1641 - val_mae: 131.4153\n",
      "Epoch 125/250\n",
      "12/12 [==============================] - 0s 4ms/step - loss: 18507.7773 - mse: 18507.7773 - mae: 135.1129 - val_loss: 17505.1641 - val_mse: 17505.1641 - val_mae: 131.4153\n",
      "Epoch 126/250\n",
      "12/12 [==============================] - 0s 4ms/step - loss: 18507.7773 - mse: 18507.7773 - mae: 135.1129 - val_loss: 17505.1641 - val_mse: 17505.1641 - val_mae: 131.4153\n",
      "Epoch 127/250\n",
      "12/12 [==============================] - 0s 4ms/step - loss: 18507.7754 - mse: 18507.7754 - mae: 135.1129 - val_loss: 17505.1641 - val_mse: 17505.1641 - val_mae: 131.4153\n",
      "Epoch 128/250\n",
      "12/12 [==============================] - 0s 4ms/step - loss: 18507.7773 - mse: 18507.7773 - mae: 135.1129 - val_loss: 17505.1641 - val_mse: 17505.1641 - val_mae: 131.4153\n",
      "Epoch 129/250\n",
      "12/12 [==============================] - 0s 4ms/step - loss: 18507.7773 - mse: 18507.7773 - mae: 135.1129 - val_loss: 17505.1641 - val_mse: 17505.1641 - val_mae: 131.4153\n",
      "Epoch 130/250\n",
      "12/12 [==============================] - 0s 5ms/step - loss: 18507.7754 - mse: 18507.7754 - mae: 135.1129 - val_loss: 17505.1641 - val_mse: 17505.1641 - val_mae: 131.4153\n",
      "Epoch 131/250\n",
      "12/12 [==============================] - 0s 4ms/step - loss: 18507.7773 - mse: 18507.7773 - mae: 135.1129 - val_loss: 17505.1641 - val_mse: 17505.1641 - val_mae: 131.4153\n",
      "Epoch 132/250\n",
      "12/12 [==============================] - 0s 5ms/step - loss: 18507.7773 - mse: 18507.7773 - mae: 135.1129 - val_loss: 17505.1641 - val_mse: 17505.1641 - val_mae: 131.4153\n",
      "Epoch 133/250\n"
     ]
    },
    {
     "name": "stdout",
     "output_type": "stream",
     "text": [
      "12/12 [==============================] - 0s 4ms/step - loss: 18507.7754 - mse: 18507.7754 - mae: 135.1129 - val_loss: 17505.1641 - val_mse: 17505.1641 - val_mae: 131.4153\n",
      "Epoch 134/250\n",
      "12/12 [==============================] - 0s 5ms/step - loss: 18507.7793 - mse: 18507.7793 - mae: 135.1129 - val_loss: 17505.1641 - val_mse: 17505.1641 - val_mae: 131.4153\n",
      "Epoch 135/250\n",
      "12/12 [==============================] - 0s 4ms/step - loss: 18507.7773 - mse: 18507.7773 - mae: 135.1129 - val_loss: 17505.1641 - val_mse: 17505.1641 - val_mae: 131.4153\n",
      "Epoch 136/250\n",
      "12/12 [==============================] - 0s 4ms/step - loss: 18507.7754 - mse: 18507.7754 - mae: 135.1129 - val_loss: 17505.1641 - val_mse: 17505.1641 - val_mae: 131.4153\n",
      "Epoch 137/250\n",
      "12/12 [==============================] - 0s 4ms/step - loss: 18507.7773 - mse: 18507.7773 - mae: 135.1129 - val_loss: 17505.1641 - val_mse: 17505.1641 - val_mae: 131.4153\n",
      "Epoch 138/250\n",
      "12/12 [==============================] - 0s 4ms/step - loss: 18507.7773 - mse: 18507.7773 - mae: 135.1129 - val_loss: 17505.1641 - val_mse: 17505.1641 - val_mae: 131.4153\n",
      "Epoch 139/250\n",
      "12/12 [==============================] - 0s 4ms/step - loss: 18507.7773 - mse: 18507.7773 - mae: 135.1129 - val_loss: 17505.1641 - val_mse: 17505.1641 - val_mae: 131.4153\n",
      "Epoch 140/250\n",
      "12/12 [==============================] - 0s 4ms/step - loss: 18507.7773 - mse: 18507.7773 - mae: 135.1129 - val_loss: 17505.1641 - val_mse: 17505.1641 - val_mae: 131.4153\n",
      "Epoch 141/250\n",
      "12/12 [==============================] - 0s 4ms/step - loss: 18507.7793 - mse: 18507.7793 - mae: 135.1129 - val_loss: 17505.1641 - val_mse: 17505.1641 - val_mae: 131.4153\n",
      "Epoch 142/250\n",
      "12/12 [==============================] - 0s 4ms/step - loss: 18507.7793 - mse: 18507.7793 - mae: 135.1129 - val_loss: 17505.1641 - val_mse: 17505.1641 - val_mae: 131.4153\n",
      "Epoch 143/250\n",
      "12/12 [==============================] - 0s 4ms/step - loss: 18507.7773 - mse: 18507.7773 - mae: 135.1129 - val_loss: 17505.1641 - val_mse: 17505.1641 - val_mae: 131.4153\n",
      "Epoch 144/250\n",
      "12/12 [==============================] - 0s 4ms/step - loss: 18507.7793 - mse: 18507.7793 - mae: 135.1129 - val_loss: 17505.1641 - val_mse: 17505.1641 - val_mae: 131.4153\n",
      "Epoch 145/250\n",
      "12/12 [==============================] - 0s 4ms/step - loss: 18507.7773 - mse: 18507.7773 - mae: 135.1129 - val_loss: 17505.1641 - val_mse: 17505.1641 - val_mae: 131.4153\n",
      "Epoch 146/250\n",
      "12/12 [==============================] - 0s 4ms/step - loss: 18507.7773 - mse: 18507.7773 - mae: 135.1129 - val_loss: 17505.1641 - val_mse: 17505.1641 - val_mae: 131.4153\n",
      "Epoch 147/250\n",
      "12/12 [==============================] - 0s 4ms/step - loss: 18507.7773 - mse: 18507.7773 - mae: 135.1129 - val_loss: 17505.1641 - val_mse: 17505.1641 - val_mae: 131.4153\n",
      "Epoch 148/250\n",
      "12/12 [==============================] - 0s 6ms/step - loss: 18507.7793 - mse: 18507.7793 - mae: 135.1129 - val_loss: 17505.1641 - val_mse: 17505.1641 - val_mae: 131.4153\n",
      "Epoch 149/250\n",
      "12/12 [==============================] - 0s 5ms/step - loss: 18507.7793 - mse: 18507.7793 - mae: 135.1129 - val_loss: 17505.1641 - val_mse: 17505.1641 - val_mae: 131.4153\n",
      "Epoch 150/250\n",
      "12/12 [==============================] - 0s 4ms/step - loss: 18507.7754 - mse: 18507.7754 - mae: 135.1129 - val_loss: 17505.1641 - val_mse: 17505.1641 - val_mae: 131.4153\n",
      "Epoch 151/250\n",
      "12/12 [==============================] - 0s 4ms/step - loss: 18507.7793 - mse: 18507.7793 - mae: 135.1129 - val_loss: 17505.1641 - val_mse: 17505.1641 - val_mae: 131.4153\n",
      "Epoch 152/250\n",
      "12/12 [==============================] - 0s 4ms/step - loss: 18507.7773 - mse: 18507.7773 - mae: 135.1129 - val_loss: 17505.1641 - val_mse: 17505.1641 - val_mae: 131.4153\n",
      "Epoch 153/250\n",
      "12/12 [==============================] - 0s 4ms/step - loss: 18507.7754 - mse: 18507.7754 - mae: 135.1129 - val_loss: 17505.1641 - val_mse: 17505.1641 - val_mae: 131.4153\n",
      "Epoch 154/250\n",
      "12/12 [==============================] - 0s 4ms/step - loss: 18507.7773 - mse: 18507.7773 - mae: 135.1129 - val_loss: 17505.1641 - val_mse: 17505.1641 - val_mae: 131.4153\n",
      "Epoch 155/250\n",
      "12/12 [==============================] - 0s 4ms/step - loss: 18507.7793 - mse: 18507.7793 - mae: 135.1129 - val_loss: 17505.1641 - val_mse: 17505.1641 - val_mae: 131.4153\n",
      "Epoch 156/250\n",
      "12/12 [==============================] - 0s 5ms/step - loss: 18507.7773 - mse: 18507.7773 - mae: 135.1129 - val_loss: 17505.1641 - val_mse: 17505.1641 - val_mae: 131.4153\n",
      "Epoch 157/250\n",
      "12/12 [==============================] - 0s 4ms/step - loss: 18507.7754 - mse: 18507.7754 - mae: 135.1129 - val_loss: 17505.1641 - val_mse: 17505.1641 - val_mae: 131.4153\n",
      "Epoch 158/250\n",
      "12/12 [==============================] - 0s 5ms/step - loss: 18507.7754 - mse: 18507.7754 - mae: 135.1129 - val_loss: 17505.1641 - val_mse: 17505.1641 - val_mae: 131.4153\n",
      "Epoch 159/250\n",
      "12/12 [==============================] - 0s 4ms/step - loss: 18507.7793 - mse: 18507.7793 - mae: 135.1129 - val_loss: 17505.1641 - val_mse: 17505.1641 - val_mae: 131.4153\n",
      "Epoch 160/250\n",
      "12/12 [==============================] - 0s 5ms/step - loss: 18507.7773 - mse: 18507.7773 - mae: 135.1129 - val_loss: 17505.1641 - val_mse: 17505.1641 - val_mae: 131.4153\n",
      "Epoch 161/250\n",
      "12/12 [==============================] - 0s 5ms/step - loss: 18507.7793 - mse: 18507.7793 - mae: 135.1129 - val_loss: 17505.1641 - val_mse: 17505.1641 - val_mae: 131.4153\n",
      "Epoch 162/250\n",
      "12/12 [==============================] - 0s 5ms/step - loss: 18507.7773 - mse: 18507.7773 - mae: 135.1129 - val_loss: 17505.1641 - val_mse: 17505.1641 - val_mae: 131.4153\n",
      "Epoch 163/250\n",
      "12/12 [==============================] - 0s 4ms/step - loss: 18507.7773 - mse: 18507.7773 - mae: 135.1129 - val_loss: 17505.1641 - val_mse: 17505.1641 - val_mae: 131.4153\n",
      "Epoch 164/250\n",
      "12/12 [==============================] - 0s 5ms/step - loss: 18507.7773 - mse: 18507.7773 - mae: 135.1129 - val_loss: 17505.1641 - val_mse: 17505.1641 - val_mae: 131.4153\n",
      "Epoch 165/250\n",
      "12/12 [==============================] - 0s 4ms/step - loss: 18507.7754 - mse: 18507.7754 - mae: 135.1129 - val_loss: 17505.1641 - val_mse: 17505.1641 - val_mae: 131.4153\n",
      "Epoch 166/250\n",
      "12/12 [==============================] - 0s 4ms/step - loss: 18507.7773 - mse: 18507.7773 - mae: 135.1129 - val_loss: 17505.1641 - val_mse: 17505.1641 - val_mae: 131.4153\n",
      "Epoch 167/250\n",
      "12/12 [==============================] - 0s 3ms/step - loss: 18507.7773 - mse: 18507.7773 - mae: 135.1129 - val_loss: 17505.1641 - val_mse: 17505.1641 - val_mae: 131.4153\n",
      "Epoch 168/250\n",
      "12/12 [==============================] - 0s 4ms/step - loss: 18507.7793 - mse: 18507.7793 - mae: 135.1129 - val_loss: 17505.1641 - val_mse: 17505.1641 - val_mae: 131.4153\n",
      "Epoch 169/250\n",
      "12/12 [==============================] - 0s 4ms/step - loss: 18507.7773 - mse: 18507.7773 - mae: 135.1129 - val_loss: 17505.1641 - val_mse: 17505.1641 - val_mae: 131.4153\n",
      "Epoch 170/250\n",
      "12/12 [==============================] - 0s 4ms/step - loss: 18507.7793 - mse: 18507.7793 - mae: 135.1129 - val_loss: 17505.1641 - val_mse: 17505.1641 - val_mae: 131.4153\n",
      "Epoch 171/250\n",
      "12/12 [==============================] - 0s 4ms/step - loss: 18507.7793 - mse: 18507.7793 - mae: 135.1129 - val_loss: 17505.1641 - val_mse: 17505.1641 - val_mae: 131.4153\n",
      "Epoch 172/250\n",
      "12/12 [==============================] - 0s 4ms/step - loss: 18507.7773 - mse: 18507.7773 - mae: 135.1129 - val_loss: 17505.1641 - val_mse: 17505.1641 - val_mae: 131.4153\n",
      "Epoch 173/250\n",
      "12/12 [==============================] - 0s 4ms/step - loss: 18507.7773 - mse: 18507.7773 - mae: 135.1129 - val_loss: 17505.1641 - val_mse: 17505.1641 - val_mae: 131.4153\n",
      "Epoch 174/250\n",
      "12/12 [==============================] - 0s 4ms/step - loss: 18507.7773 - mse: 18507.7773 - mae: 135.1129 - val_loss: 17505.1641 - val_mse: 17505.1641 - val_mae: 131.4153\n",
      "Epoch 175/250\n",
      "12/12 [==============================] - 0s 4ms/step - loss: 18507.7773 - mse: 18507.7773 - mae: 135.1129 - val_loss: 17505.1641 - val_mse: 17505.1641 - val_mae: 131.4153\n",
      "Epoch 176/250\n",
      "12/12 [==============================] - 0s 4ms/step - loss: 18507.7773 - mse: 18507.7773 - mae: 135.1129 - val_loss: 17505.1641 - val_mse: 17505.1641 - val_mae: 131.4153\n",
      "Epoch 177/250\n"
     ]
    },
    {
     "name": "stdout",
     "output_type": "stream",
     "text": [
      "12/12 [==============================] - 0s 4ms/step - loss: 18507.7793 - mse: 18507.7793 - mae: 135.1129 - val_loss: 17505.1641 - val_mse: 17505.1641 - val_mae: 131.4153\n",
      "Epoch 178/250\n",
      "12/12 [==============================] - 0s 4ms/step - loss: 18507.7793 - mse: 18507.7793 - mae: 135.1129 - val_loss: 17505.1641 - val_mse: 17505.1641 - val_mae: 131.4153\n",
      "Epoch 179/250\n",
      "12/12 [==============================] - 0s 4ms/step - loss: 18507.7754 - mse: 18507.7754 - mae: 135.1129 - val_loss: 17505.1641 - val_mse: 17505.1641 - val_mae: 131.4153\n",
      "Epoch 180/250\n",
      "12/12 [==============================] - 0s 4ms/step - loss: 18507.7754 - mse: 18507.7754 - mae: 135.1129 - val_loss: 17505.1641 - val_mse: 17505.1641 - val_mae: 131.4153\n",
      "Epoch 181/250\n",
      "12/12 [==============================] - 0s 5ms/step - loss: 18507.7773 - mse: 18507.7773 - mae: 135.1129 - val_loss: 17505.1641 - val_mse: 17505.1641 - val_mae: 131.4153\n",
      "Epoch 182/250\n",
      "12/12 [==============================] - 0s 4ms/step - loss: 18507.7754 - mse: 18507.7754 - mae: 135.1129 - val_loss: 17505.1641 - val_mse: 17505.1641 - val_mae: 131.4153\n",
      "Epoch 183/250\n",
      "12/12 [==============================] - 0s 4ms/step - loss: 18507.7773 - mse: 18507.7773 - mae: 135.1129 - val_loss: 17505.1641 - val_mse: 17505.1641 - val_mae: 131.4153\n",
      "Epoch 184/250\n",
      "12/12 [==============================] - 0s 5ms/step - loss: 18507.7773 - mse: 18507.7773 - mae: 135.1129 - val_loss: 17505.1641 - val_mse: 17505.1641 - val_mae: 131.4153\n",
      "Epoch 185/250\n",
      "12/12 [==============================] - 0s 5ms/step - loss: 18507.7773 - mse: 18507.7773 - mae: 135.1129 - val_loss: 17505.1641 - val_mse: 17505.1641 - val_mae: 131.4153\n",
      "Epoch 186/250\n",
      "12/12 [==============================] - 0s 4ms/step - loss: 18507.7773 - mse: 18507.7773 - mae: 135.1129 - val_loss: 17505.1641 - val_mse: 17505.1641 - val_mae: 131.4153\n",
      "Epoch 187/250\n",
      "12/12 [==============================] - 0s 4ms/step - loss: 18507.7793 - mse: 18507.7793 - mae: 135.1129 - val_loss: 17505.1641 - val_mse: 17505.1641 - val_mae: 131.4153\n",
      "Epoch 188/250\n",
      "12/12 [==============================] - 0s 4ms/step - loss: 18507.7793 - mse: 18507.7793 - mae: 135.1129 - val_loss: 17505.1641 - val_mse: 17505.1641 - val_mae: 131.4153\n",
      "Epoch 189/250\n",
      "12/12 [==============================] - 0s 4ms/step - loss: 18507.7773 - mse: 18507.7773 - mae: 135.1129 - val_loss: 17505.1641 - val_mse: 17505.1641 - val_mae: 131.4153\n",
      "Epoch 190/250\n",
      "12/12 [==============================] - 0s 4ms/step - loss: 18507.7793 - mse: 18507.7793 - mae: 135.1129 - val_loss: 17505.1641 - val_mse: 17505.1641 - val_mae: 131.4153\n",
      "Epoch 191/250\n",
      "12/12 [==============================] - 0s 3ms/step - loss: 18507.7773 - mse: 18507.7773 - mae: 135.1129 - val_loss: 17505.1641 - val_mse: 17505.1641 - val_mae: 131.4153\n",
      "Epoch 192/250\n",
      "12/12 [==============================] - 0s 3ms/step - loss: 18507.7793 - mse: 18507.7793 - mae: 135.1129 - val_loss: 17505.1641 - val_mse: 17505.1641 - val_mae: 131.4153\n",
      "Epoch 193/250\n",
      "12/12 [==============================] - 0s 4ms/step - loss: 18507.7754 - mse: 18507.7754 - mae: 135.1129 - val_loss: 17505.1641 - val_mse: 17505.1641 - val_mae: 131.4153\n",
      "Epoch 194/250\n",
      "12/12 [==============================] - 0s 4ms/step - loss: 18507.7793 - mse: 18507.7793 - mae: 135.1129 - val_loss: 17505.1641 - val_mse: 17505.1641 - val_mae: 131.4153\n",
      "Epoch 195/250\n",
      "12/12 [==============================] - 0s 4ms/step - loss: 18507.7773 - mse: 18507.7773 - mae: 135.1129 - val_loss: 17505.1641 - val_mse: 17505.1641 - val_mae: 131.4153\n",
      "Epoch 196/250\n",
      "12/12 [==============================] - 0s 4ms/step - loss: 18507.7793 - mse: 18507.7793 - mae: 135.1129 - val_loss: 17505.1641 - val_mse: 17505.1641 - val_mae: 131.4153\n",
      "Epoch 197/250\n",
      "12/12 [==============================] - 0s 4ms/step - loss: 18507.7773 - mse: 18507.7773 - mae: 135.1129 - val_loss: 17505.1641 - val_mse: 17505.1641 - val_mae: 131.4153\n",
      "Epoch 198/250\n",
      "12/12 [==============================] - 0s 3ms/step - loss: 18507.7773 - mse: 18507.7773 - mae: 135.1129 - val_loss: 17505.1641 - val_mse: 17505.1641 - val_mae: 131.4153\n",
      "Epoch 199/250\n",
      "12/12 [==============================] - 0s 4ms/step - loss: 18507.7773 - mse: 18507.7773 - mae: 135.1129 - val_loss: 17505.1641 - val_mse: 17505.1641 - val_mae: 131.4153\n",
      "Epoch 200/250\n",
      "12/12 [==============================] - 0s 4ms/step - loss: 18507.7773 - mse: 18507.7773 - mae: 135.1129 - val_loss: 17505.1641 - val_mse: 17505.1641 - val_mae: 131.4153\n",
      "Epoch 201/250\n",
      "12/12 [==============================] - 0s 5ms/step - loss: 18507.7773 - mse: 18507.7773 - mae: 135.1129 - val_loss: 17505.1641 - val_mse: 17505.1641 - val_mae: 131.4153\n",
      "Epoch 202/250\n",
      "12/12 [==============================] - 0s 5ms/step - loss: 18507.7773 - mse: 18507.7773 - mae: 135.1129 - val_loss: 17505.1641 - val_mse: 17505.1641 - val_mae: 131.4153\n",
      "Epoch 203/250\n",
      "12/12 [==============================] - 0s 5ms/step - loss: 18507.7793 - mse: 18507.7793 - mae: 135.1129 - val_loss: 17505.1641 - val_mse: 17505.1641 - val_mae: 131.4153\n",
      "Epoch 204/250\n",
      "12/12 [==============================] - 0s 4ms/step - loss: 18507.7773 - mse: 18507.7773 - mae: 135.1129 - val_loss: 17505.1641 - val_mse: 17505.1641 - val_mae: 131.4153\n",
      "Epoch 205/250\n",
      "12/12 [==============================] - 0s 4ms/step - loss: 18507.7773 - mse: 18507.7773 - mae: 135.1129 - val_loss: 17505.1641 - val_mse: 17505.1641 - val_mae: 131.4153\n",
      "Epoch 206/250\n",
      "12/12 [==============================] - 0s 5ms/step - loss: 18507.7754 - mse: 18507.7754 - mae: 135.1129 - val_loss: 17505.1641 - val_mse: 17505.1641 - val_mae: 131.4153\n",
      "Epoch 207/250\n",
      "12/12 [==============================] - 0s 4ms/step - loss: 18507.7793 - mse: 18507.7793 - mae: 135.1129 - val_loss: 17505.1641 - val_mse: 17505.1641 - val_mae: 131.4153\n",
      "Epoch 208/250\n",
      "12/12 [==============================] - 0s 5ms/step - loss: 18507.7773 - mse: 18507.7773 - mae: 135.1129 - val_loss: 17505.1641 - val_mse: 17505.1641 - val_mae: 131.4153\n",
      "Epoch 209/250\n",
      "12/12 [==============================] - 0s 4ms/step - loss: 18507.7773 - mse: 18507.7773 - mae: 135.1129 - val_loss: 17505.1641 - val_mse: 17505.1641 - val_mae: 131.4153\n",
      "Epoch 210/250\n",
      "12/12 [==============================] - 0s 5ms/step - loss: 18507.7773 - mse: 18507.7773 - mae: 135.1129 - val_loss: 17505.1641 - val_mse: 17505.1641 - val_mae: 131.4153\n",
      "Epoch 211/250\n",
      "12/12 [==============================] - 0s 6ms/step - loss: 18507.7773 - mse: 18507.7773 - mae: 135.1129 - val_loss: 17505.1641 - val_mse: 17505.1641 - val_mae: 131.4153\n",
      "Epoch 212/250\n",
      "12/12 [==============================] - 0s 5ms/step - loss: 18507.7793 - mse: 18507.7793 - mae: 135.1129 - val_loss: 17505.1641 - val_mse: 17505.1641 - val_mae: 131.4153\n",
      "Epoch 213/250\n",
      "12/12 [==============================] - 0s 5ms/step - loss: 18507.7773 - mse: 18507.7773 - mae: 135.1129 - val_loss: 17505.1641 - val_mse: 17505.1641 - val_mae: 131.4153\n",
      "Epoch 214/250\n",
      "12/12 [==============================] - 0s 3ms/step - loss: 18507.7793 - mse: 18507.7793 - mae: 135.1129 - val_loss: 17505.1641 - val_mse: 17505.1641 - val_mae: 131.4153\n",
      "Epoch 215/250\n",
      "12/12 [==============================] - 0s 5ms/step - loss: 18507.7754 - mse: 18507.7754 - mae: 135.1129 - val_loss: 17505.1641 - val_mse: 17505.1641 - val_mae: 131.4153\n",
      "Epoch 216/250\n",
      "12/12 [==============================] - 0s 4ms/step - loss: 18507.7793 - mse: 18507.7793 - mae: 135.1129 - val_loss: 17505.1641 - val_mse: 17505.1641 - val_mae: 131.4153\n",
      "Epoch 217/250\n",
      "12/12 [==============================] - 0s 4ms/step - loss: 18507.7773 - mse: 18507.7773 - mae: 135.1129 - val_loss: 17505.1641 - val_mse: 17505.1641 - val_mae: 131.4153\n",
      "Epoch 218/250\n",
      "12/12 [==============================] - 0s 4ms/step - loss: 18507.7754 - mse: 18507.7754 - mae: 135.1129 - val_loss: 17505.1641 - val_mse: 17505.1641 - val_mae: 131.4153\n",
      "Epoch 219/250\n",
      "12/12 [==============================] - 0s 4ms/step - loss: 18507.7773 - mse: 18507.7773 - mae: 135.1129 - val_loss: 17505.1641 - val_mse: 17505.1641 - val_mae: 131.4153\n",
      "Epoch 220/250\n",
      "12/12 [==============================] - 0s 4ms/step - loss: 18507.7754 - mse: 18507.7754 - mae: 135.1129 - val_loss: 17505.1641 - val_mse: 17505.1641 - val_mae: 131.4153\n",
      "Epoch 221/250\n"
     ]
    },
    {
     "name": "stdout",
     "output_type": "stream",
     "text": [
      "12/12 [==============================] - 0s 3ms/step - loss: 18507.7773 - mse: 18507.7773 - mae: 135.1129 - val_loss: 17505.1641 - val_mse: 17505.1641 - val_mae: 131.4153\n",
      "Epoch 222/250\n",
      "12/12 [==============================] - 0s 5ms/step - loss: 18507.7793 - mse: 18507.7793 - mae: 135.1129 - val_loss: 17505.1641 - val_mse: 17505.1641 - val_mae: 131.4153\n",
      "Epoch 223/250\n",
      "12/12 [==============================] - 0s 5ms/step - loss: 18507.7754 - mse: 18507.7754 - mae: 135.1129 - val_loss: 17505.1641 - val_mse: 17505.1641 - val_mae: 131.4153\n",
      "Epoch 224/250\n",
      "12/12 [==============================] - 0s 5ms/step - loss: 18507.7793 - mse: 18507.7793 - mae: 135.1129 - val_loss: 17505.1641 - val_mse: 17505.1641 - val_mae: 131.4153\n",
      "Epoch 225/250\n",
      "12/12 [==============================] - 0s 4ms/step - loss: 18507.7793 - mse: 18507.7793 - mae: 135.1129 - val_loss: 17505.1641 - val_mse: 17505.1641 - val_mae: 131.4153\n",
      "Epoch 226/250\n",
      "12/12 [==============================] - 0s 5ms/step - loss: 18507.7793 - mse: 18507.7793 - mae: 135.1129 - val_loss: 17505.1641 - val_mse: 17505.1641 - val_mae: 131.4153\n",
      "Epoch 227/250\n",
      "12/12 [==============================] - 0s 4ms/step - loss: 18507.7793 - mse: 18507.7793 - mae: 135.1129 - val_loss: 17505.1641 - val_mse: 17505.1641 - val_mae: 131.4153\n",
      "Epoch 228/250\n",
      "12/12 [==============================] - 0s 4ms/step - loss: 18507.7793 - mse: 18507.7793 - mae: 135.1129 - val_loss: 17505.1641 - val_mse: 17505.1641 - val_mae: 131.4153\n",
      "Epoch 229/250\n",
      "12/12 [==============================] - 0s 4ms/step - loss: 18507.7773 - mse: 18507.7773 - mae: 135.1129 - val_loss: 17505.1641 - val_mse: 17505.1641 - val_mae: 131.4153\n",
      "Epoch 230/250\n",
      "12/12 [==============================] - 0s 5ms/step - loss: 18507.7754 - mse: 18507.7754 - mae: 135.1129 - val_loss: 17505.1641 - val_mse: 17505.1641 - val_mae: 131.4153\n",
      "Epoch 231/250\n",
      "12/12 [==============================] - 0s 4ms/step - loss: 18507.7773 - mse: 18507.7773 - mae: 135.1129 - val_loss: 17505.1641 - val_mse: 17505.1641 - val_mae: 131.4153\n",
      "Epoch 232/250\n",
      "12/12 [==============================] - 0s 4ms/step - loss: 18507.7793 - mse: 18507.7793 - mae: 135.1129 - val_loss: 17505.1641 - val_mse: 17505.1641 - val_mae: 131.4153\n",
      "Epoch 233/250\n",
      "12/12 [==============================] - 0s 5ms/step - loss: 18507.7773 - mse: 18507.7773 - mae: 135.1129 - val_loss: 17505.1641 - val_mse: 17505.1641 - val_mae: 131.4153\n",
      "Epoch 234/250\n",
      "12/12 [==============================] - 0s 4ms/step - loss: 18507.7773 - mse: 18507.7773 - mae: 135.1129 - val_loss: 17505.1641 - val_mse: 17505.1641 - val_mae: 131.4153\n",
      "Epoch 235/250\n",
      "12/12 [==============================] - 0s 5ms/step - loss: 18507.7773 - mse: 18507.7773 - mae: 135.1129 - val_loss: 17505.1641 - val_mse: 17505.1641 - val_mae: 131.4153\n",
      "Epoch 236/250\n",
      "12/12 [==============================] - 0s 6ms/step - loss: 18507.7793 - mse: 18507.7793 - mae: 135.1129 - val_loss: 17505.1641 - val_mse: 17505.1641 - val_mae: 131.4153\n",
      "Epoch 237/250\n",
      "12/12 [==============================] - 0s 5ms/step - loss: 18507.7793 - mse: 18507.7793 - mae: 135.1129 - val_loss: 17505.1641 - val_mse: 17505.1641 - val_mae: 131.4153\n",
      "Epoch 238/250\n",
      "12/12 [==============================] - 0s 5ms/step - loss: 18507.7754 - mse: 18507.7754 - mae: 135.1129 - val_loss: 17505.1641 - val_mse: 17505.1641 - val_mae: 131.4153\n",
      "Epoch 239/250\n",
      "12/12 [==============================] - 0s 4ms/step - loss: 18507.7773 - mse: 18507.7773 - mae: 135.1129 - val_loss: 17505.1641 - val_mse: 17505.1641 - val_mae: 131.4153\n",
      "Epoch 240/250\n",
      "12/12 [==============================] - 0s 5ms/step - loss: 18507.7793 - mse: 18507.7793 - mae: 135.1129 - val_loss: 17505.1641 - val_mse: 17505.1641 - val_mae: 131.4153\n",
      "Epoch 241/250\n",
      "12/12 [==============================] - 0s 5ms/step - loss: 18507.7773 - mse: 18507.7773 - mae: 135.1129 - val_loss: 17505.1641 - val_mse: 17505.1641 - val_mae: 131.4153\n",
      "Epoch 242/250\n",
      "12/12 [==============================] - 0s 4ms/step - loss: 18507.7793 - mse: 18507.7793 - mae: 135.1129 - val_loss: 17505.1641 - val_mse: 17505.1641 - val_mae: 131.4153\n",
      "Epoch 243/250\n",
      "12/12 [==============================] - 0s 3ms/step - loss: 18507.7734 - mse: 18507.7734 - mae: 135.1129 - val_loss: 17505.1641 - val_mse: 17505.1641 - val_mae: 131.4153\n",
      "Epoch 244/250\n",
      "12/12 [==============================] - 0s 4ms/step - loss: 18507.7773 - mse: 18507.7773 - mae: 135.1129 - val_loss: 17505.1641 - val_mse: 17505.1641 - val_mae: 131.4153\n",
      "Epoch 245/250\n",
      "12/12 [==============================] - 0s 5ms/step - loss: 18507.7793 - mse: 18507.7793 - mae: 135.1129 - val_loss: 17505.1641 - val_mse: 17505.1641 - val_mae: 131.4153\n",
      "Epoch 246/250\n",
      "12/12 [==============================] - 0s 4ms/step - loss: 18507.7793 - mse: 18507.7793 - mae: 135.1129 - val_loss: 17505.1641 - val_mse: 17505.1641 - val_mae: 131.4153\n",
      "Epoch 247/250\n",
      "12/12 [==============================] - 0s 5ms/step - loss: 18507.7793 - mse: 18507.7793 - mae: 135.1129 - val_loss: 17505.1641 - val_mse: 17505.1641 - val_mae: 131.4153\n",
      "Epoch 248/250\n",
      "12/12 [==============================] - 0s 3ms/step - loss: 18507.7773 - mse: 18507.7773 - mae: 135.1129 - val_loss: 17505.1641 - val_mse: 17505.1641 - val_mae: 131.4153\n",
      "Epoch 249/250\n",
      "12/12 [==============================] - 0s 5ms/step - loss: 18507.7754 - mse: 18507.7754 - mae: 135.1129 - val_loss: 17505.1641 - val_mse: 17505.1641 - val_mae: 131.4153\n",
      "Epoch 250/250\n",
      "12/12 [==============================] - 0s 5ms/step - loss: 18507.7793 - mse: 18507.7793 - mae: 135.1129 - val_loss: 17505.1641 - val_mse: 17505.1641 - val_mae: 131.4153\n"
     ]
    }
   ],
   "source": [
    "hist_model=seq_model.fit(x,y,validation_split=0.25,epochs=250,batch_size=1000)"
   ]
  },
  {
   "cell_type": "code",
   "execution_count": 29,
   "id": "a0bd9436",
   "metadata": {},
   "outputs": [
    {
     "name": "stdout",
     "output_type": "stream",
     "text": [
      "470/470 [==============================] - 1s 1ms/step - loss: 18257.1094 - mse: 18257.1094 - mae: 134.1884\n"
     ]
    }
   ],
   "source": [
    "mse=seq_model.evaluate(x,y)"
   ]
  },
  {
   "cell_type": "code",
   "execution_count": 30,
   "id": "04c08e0f",
   "metadata": {},
   "outputs": [
    {
     "data": {
      "text/plain": [
       "dict_keys(['loss', 'mse', 'mae', 'val_loss', 'val_mse', 'val_mae'])"
      ]
     },
     "execution_count": 30,
     "metadata": {},
     "output_type": "execute_result"
    }
   ],
   "source": [
    "hist_model.history.keys()"
   ]
  },
  {
   "cell_type": "code",
   "execution_count": 31,
   "id": "be9620a6",
   "metadata": {},
   "outputs": [
    {
     "name": "stdout",
     "output_type": "stream",
     "text": [
      "470/470 [==============================] - 0s 830us/step\n"
     ]
    },
    {
     "data": {
      "text/html": [
       "<div>\n",
       "<style scoped>\n",
       "    .dataframe tbody tr th:only-of-type {\n",
       "        vertical-align: middle;\n",
       "    }\n",
       "\n",
       "    .dataframe tbody tr th {\n",
       "        vertical-align: top;\n",
       "    }\n",
       "\n",
       "    .dataframe thead th {\n",
       "        text-align: right;\n",
       "    }\n",
       "</style>\n",
       "<table border=\"1\" class=\"dataframe\">\n",
       "  <thead>\n",
       "    <tr style=\"text-align: right;\">\n",
       "      <th></th>\n",
       "      <th>0</th>\n",
       "    </tr>\n",
       "  </thead>\n",
       "  <tbody>\n",
       "    <tr>\n",
       "      <th>0</th>\n",
       "      <td>0.0</td>\n",
       "    </tr>\n",
       "    <tr>\n",
       "      <th>1</th>\n",
       "      <td>0.0</td>\n",
       "    </tr>\n",
       "    <tr>\n",
       "      <th>2</th>\n",
       "      <td>0.0</td>\n",
       "    </tr>\n",
       "    <tr>\n",
       "      <th>3</th>\n",
       "      <td>0.0</td>\n",
       "    </tr>\n",
       "    <tr>\n",
       "      <th>4</th>\n",
       "      <td>0.0</td>\n",
       "    </tr>\n",
       "    <tr>\n",
       "      <th>5</th>\n",
       "      <td>0.0</td>\n",
       "    </tr>\n",
       "    <tr>\n",
       "      <th>6</th>\n",
       "      <td>0.0</td>\n",
       "    </tr>\n",
       "    <tr>\n",
       "      <th>7</th>\n",
       "      <td>0.0</td>\n",
       "    </tr>\n",
       "    <tr>\n",
       "      <th>8</th>\n",
       "      <td>0.0</td>\n",
       "    </tr>\n",
       "    <tr>\n",
       "      <th>9</th>\n",
       "      <td>0.0</td>\n",
       "    </tr>\n",
       "    <tr>\n",
       "      <th>10</th>\n",
       "      <td>0.0</td>\n",
       "    </tr>\n",
       "    <tr>\n",
       "      <th>11</th>\n",
       "      <td>0.0</td>\n",
       "    </tr>\n",
       "    <tr>\n",
       "      <th>12</th>\n",
       "      <td>0.0</td>\n",
       "    </tr>\n",
       "    <tr>\n",
       "      <th>13</th>\n",
       "      <td>0.0</td>\n",
       "    </tr>\n",
       "    <tr>\n",
       "      <th>14</th>\n",
       "      <td>0.0</td>\n",
       "    </tr>\n",
       "    <tr>\n",
       "      <th>15</th>\n",
       "      <td>0.0</td>\n",
       "    </tr>\n",
       "    <tr>\n",
       "      <th>16</th>\n",
       "      <td>0.0</td>\n",
       "    </tr>\n",
       "    <tr>\n",
       "      <th>17</th>\n",
       "      <td>0.0</td>\n",
       "    </tr>\n",
       "    <tr>\n",
       "      <th>18</th>\n",
       "      <td>0.0</td>\n",
       "    </tr>\n",
       "    <tr>\n",
       "      <th>19</th>\n",
       "      <td>0.0</td>\n",
       "    </tr>\n",
       "  </tbody>\n",
       "</table>\n",
       "</div>"
      ],
      "text/plain": [
       "      0\n",
       "0   0.0\n",
       "1   0.0\n",
       "2   0.0\n",
       "3   0.0\n",
       "4   0.0\n",
       "5   0.0\n",
       "6   0.0\n",
       "7   0.0\n",
       "8   0.0\n",
       "9   0.0\n",
       "10  0.0\n",
       "11  0.0\n",
       "12  0.0\n",
       "13  0.0\n",
       "14  0.0\n",
       "15  0.0\n",
       "16  0.0\n",
       "17  0.0\n",
       "18  0.0\n",
       "19  0.0"
      ]
     },
     "execution_count": 31,
     "metadata": {},
     "output_type": "execute_result"
    }
   ],
   "source": [
    "prd=seq_model.predict(x)\n",
    "prd_df=pd.DataFrame(prd)\n",
    "prd_df.head(20)"
   ]
  },
  {
   "cell_type": "code",
   "execution_count": 32,
   "id": "d758a4e0",
   "metadata": {},
   "outputs": [
    {
     "data": {
      "text/html": [
       "<div>\n",
       "<style scoped>\n",
       "    .dataframe tbody tr th:only-of-type {\n",
       "        vertical-align: middle;\n",
       "    }\n",
       "\n",
       "    .dataframe tbody tr th {\n",
       "        vertical-align: top;\n",
       "    }\n",
       "\n",
       "    .dataframe thead th {\n",
       "        text-align: right;\n",
       "    }\n",
       "</style>\n",
       "<table border=\"1\" class=\"dataframe\">\n",
       "  <thead>\n",
       "    <tr style=\"text-align: right;\">\n",
       "      <th></th>\n",
       "      <th>TEY</th>\n",
       "    </tr>\n",
       "  </thead>\n",
       "  <tbody>\n",
       "    <tr>\n",
       "      <th>0</th>\n",
       "      <td>114.70</td>\n",
       "    </tr>\n",
       "    <tr>\n",
       "      <th>1</th>\n",
       "      <td>114.72</td>\n",
       "    </tr>\n",
       "    <tr>\n",
       "      <th>2</th>\n",
       "      <td>114.71</td>\n",
       "    </tr>\n",
       "    <tr>\n",
       "      <th>3</th>\n",
       "      <td>114.72</td>\n",
       "    </tr>\n",
       "    <tr>\n",
       "      <th>4</th>\n",
       "      <td>114.72</td>\n",
       "    </tr>\n",
       "    <tr>\n",
       "      <th>5</th>\n",
       "      <td>114.72</td>\n",
       "    </tr>\n",
       "    <tr>\n",
       "      <th>6</th>\n",
       "      <td>114.71</td>\n",
       "    </tr>\n",
       "    <tr>\n",
       "      <th>7</th>\n",
       "      <td>114.71</td>\n",
       "    </tr>\n",
       "    <tr>\n",
       "      <th>8</th>\n",
       "      <td>114.72</td>\n",
       "    </tr>\n",
       "    <tr>\n",
       "      <th>9</th>\n",
       "      <td>131.70</td>\n",
       "    </tr>\n",
       "    <tr>\n",
       "      <th>10</th>\n",
       "      <td>133.67</td>\n",
       "    </tr>\n",
       "    <tr>\n",
       "      <th>11</th>\n",
       "      <td>134.24</td>\n",
       "    </tr>\n",
       "    <tr>\n",
       "      <th>12</th>\n",
       "      <td>134.69</td>\n",
       "    </tr>\n",
       "    <tr>\n",
       "      <th>13</th>\n",
       "      <td>134.68</td>\n",
       "    </tr>\n",
       "    <tr>\n",
       "      <th>14</th>\n",
       "      <td>134.68</td>\n",
       "    </tr>\n",
       "    <tr>\n",
       "      <th>15</th>\n",
       "      <td>134.69</td>\n",
       "    </tr>\n",
       "    <tr>\n",
       "      <th>16</th>\n",
       "      <td>134.69</td>\n",
       "    </tr>\n",
       "    <tr>\n",
       "      <th>17</th>\n",
       "      <td>134.69</td>\n",
       "    </tr>\n",
       "    <tr>\n",
       "      <th>18</th>\n",
       "      <td>134.68</td>\n",
       "    </tr>\n",
       "    <tr>\n",
       "      <th>19</th>\n",
       "      <td>134.68</td>\n",
       "    </tr>\n",
       "  </tbody>\n",
       "</table>\n",
       "</div>"
      ],
      "text/plain": [
       "       TEY\n",
       "0   114.70\n",
       "1   114.72\n",
       "2   114.71\n",
       "3   114.72\n",
       "4   114.72\n",
       "5   114.72\n",
       "6   114.71\n",
       "7   114.71\n",
       "8   114.72\n",
       "9   131.70\n",
       "10  133.67\n",
       "11  134.24\n",
       "12  134.69\n",
       "13  134.68\n",
       "14  134.68\n",
       "15  134.69\n",
       "16  134.69\n",
       "17  134.69\n",
       "18  134.68\n",
       "19  134.68"
      ]
     },
     "execution_count": 32,
     "metadata": {},
     "output_type": "execute_result"
    }
   ],
   "source": [
    "y.head(20)"
   ]
  },
  {
   "cell_type": "code",
   "execution_count": null,
   "id": "30e2d13f",
   "metadata": {},
   "outputs": [],
   "source": []
  }
 ],
 "metadata": {
  "kernelspec": {
   "display_name": "Python 3 (ipykernel)",
   "language": "python",
   "name": "python3"
  },
  "language_info": {
   "codemirror_mode": {
    "name": "ipython",
    "version": 3
   },
   "file_extension": ".py",
   "mimetype": "text/x-python",
   "name": "python",
   "nbconvert_exporter": "python",
   "pygments_lexer": "ipython3",
   "version": "3.9.12"
  }
 },
 "nbformat": 4,
 "nbformat_minor": 5
}
