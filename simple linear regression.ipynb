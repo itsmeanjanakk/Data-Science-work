{
 "cells": [
  {
   "cell_type": "markdown",
   "id": "a72a672f",
   "metadata": {},
   "source": [
    "# 1) Delivery_time -> Predict delivery time using sorting time \n",
    "\n",
    "# Build a simple linear regression model by performing EDA and do necessary transformations and select the best model using R or Python.\n"
   ]
  },
  {
   "cell_type": "code",
   "execution_count": 1,
   "id": "69301ee2",
   "metadata": {},
   "outputs": [],
   "source": [
    "import warnings\n",
    "warnings.filterwarnings('ignore')"
   ]
  },
  {
   "cell_type": "code",
   "execution_count": 2,
   "id": "d7512daa",
   "metadata": {},
   "outputs": [],
   "source": [
    "import pandas as pd"
   ]
  },
  {
   "cell_type": "code",
   "execution_count": 3,
   "id": "600f6705",
   "metadata": {},
   "outputs": [],
   "source": [
    "Delivery_time=pd.read_csv(\"C:\\\\Users\\\\Anjana\\\\Downloads\\\\delivery_time.csv\")"
   ]
  },
  {
   "cell_type": "code",
   "execution_count": 4,
   "id": "af523a5e",
   "metadata": {},
   "outputs": [
    {
     "data": {
      "text/html": [
       "<div>\n",
       "<style scoped>\n",
       "    .dataframe tbody tr th:only-of-type {\n",
       "        vertical-align: middle;\n",
       "    }\n",
       "\n",
       "    .dataframe tbody tr th {\n",
       "        vertical-align: top;\n",
       "    }\n",
       "\n",
       "    .dataframe thead th {\n",
       "        text-align: right;\n",
       "    }\n",
       "</style>\n",
       "<table border=\"1\" class=\"dataframe\">\n",
       "  <thead>\n",
       "    <tr style=\"text-align: right;\">\n",
       "      <th></th>\n",
       "      <th>Delivery Time</th>\n",
       "      <th>Sorting Time</th>\n",
       "    </tr>\n",
       "  </thead>\n",
       "  <tbody>\n",
       "    <tr>\n",
       "      <th>0</th>\n",
       "      <td>21.00</td>\n",
       "      <td>10</td>\n",
       "    </tr>\n",
       "    <tr>\n",
       "      <th>1</th>\n",
       "      <td>13.50</td>\n",
       "      <td>4</td>\n",
       "    </tr>\n",
       "    <tr>\n",
       "      <th>2</th>\n",
       "      <td>19.75</td>\n",
       "      <td>6</td>\n",
       "    </tr>\n",
       "    <tr>\n",
       "      <th>3</th>\n",
       "      <td>24.00</td>\n",
       "      <td>9</td>\n",
       "    </tr>\n",
       "    <tr>\n",
       "      <th>4</th>\n",
       "      <td>29.00</td>\n",
       "      <td>10</td>\n",
       "    </tr>\n",
       "    <tr>\n",
       "      <th>5</th>\n",
       "      <td>15.35</td>\n",
       "      <td>6</td>\n",
       "    </tr>\n",
       "    <tr>\n",
       "      <th>6</th>\n",
       "      <td>19.00</td>\n",
       "      <td>7</td>\n",
       "    </tr>\n",
       "    <tr>\n",
       "      <th>7</th>\n",
       "      <td>9.50</td>\n",
       "      <td>3</td>\n",
       "    </tr>\n",
       "    <tr>\n",
       "      <th>8</th>\n",
       "      <td>17.90</td>\n",
       "      <td>10</td>\n",
       "    </tr>\n",
       "    <tr>\n",
       "      <th>9</th>\n",
       "      <td>18.75</td>\n",
       "      <td>9</td>\n",
       "    </tr>\n",
       "    <tr>\n",
       "      <th>10</th>\n",
       "      <td>19.83</td>\n",
       "      <td>8</td>\n",
       "    </tr>\n",
       "    <tr>\n",
       "      <th>11</th>\n",
       "      <td>10.75</td>\n",
       "      <td>4</td>\n",
       "    </tr>\n",
       "    <tr>\n",
       "      <th>12</th>\n",
       "      <td>16.68</td>\n",
       "      <td>7</td>\n",
       "    </tr>\n",
       "    <tr>\n",
       "      <th>13</th>\n",
       "      <td>11.50</td>\n",
       "      <td>3</td>\n",
       "    </tr>\n",
       "    <tr>\n",
       "      <th>14</th>\n",
       "      <td>12.03</td>\n",
       "      <td>3</td>\n",
       "    </tr>\n",
       "    <tr>\n",
       "      <th>15</th>\n",
       "      <td>14.88</td>\n",
       "      <td>4</td>\n",
       "    </tr>\n",
       "    <tr>\n",
       "      <th>16</th>\n",
       "      <td>13.75</td>\n",
       "      <td>6</td>\n",
       "    </tr>\n",
       "    <tr>\n",
       "      <th>17</th>\n",
       "      <td>18.11</td>\n",
       "      <td>7</td>\n",
       "    </tr>\n",
       "    <tr>\n",
       "      <th>18</th>\n",
       "      <td>8.00</td>\n",
       "      <td>2</td>\n",
       "    </tr>\n",
       "    <tr>\n",
       "      <th>19</th>\n",
       "      <td>17.83</td>\n",
       "      <td>7</td>\n",
       "    </tr>\n",
       "    <tr>\n",
       "      <th>20</th>\n",
       "      <td>21.50</td>\n",
       "      <td>5</td>\n",
       "    </tr>\n",
       "  </tbody>\n",
       "</table>\n",
       "</div>"
      ],
      "text/plain": [
       "    Delivery Time  Sorting Time\n",
       "0           21.00            10\n",
       "1           13.50             4\n",
       "2           19.75             6\n",
       "3           24.00             9\n",
       "4           29.00            10\n",
       "5           15.35             6\n",
       "6           19.00             7\n",
       "7            9.50             3\n",
       "8           17.90            10\n",
       "9           18.75             9\n",
       "10          19.83             8\n",
       "11          10.75             4\n",
       "12          16.68             7\n",
       "13          11.50             3\n",
       "14          12.03             3\n",
       "15          14.88             4\n",
       "16          13.75             6\n",
       "17          18.11             7\n",
       "18           8.00             2\n",
       "19          17.83             7\n",
       "20          21.50             5"
      ]
     },
     "execution_count": 4,
     "metadata": {},
     "output_type": "execute_result"
    }
   ],
   "source": [
    "Delivery_time"
   ]
  },
  {
   "cell_type": "code",
   "execution_count": 5,
   "id": "fe24536f",
   "metadata": {
    "scrolled": true
   },
   "outputs": [
    {
     "name": "stdout",
     "output_type": "stream",
     "text": [
      "<class 'pandas.core.frame.DataFrame'>\n",
      "RangeIndex: 21 entries, 0 to 20\n",
      "Data columns (total 2 columns):\n",
      " #   Column         Non-Null Count  Dtype  \n",
      "---  ------         --------------  -----  \n",
      " 0   Delivery Time  21 non-null     float64\n",
      " 1   Sorting Time   21 non-null     int64  \n",
      "dtypes: float64(1), int64(1)\n",
      "memory usage: 464.0 bytes\n"
     ]
    }
   ],
   "source": [
    "Delivery_time.info() #NO MISSING VALUES"
   ]
  },
  {
   "cell_type": "code",
   "execution_count": 6,
   "id": "df6c51b8",
   "metadata": {},
   "outputs": [
    {
     "data": {
      "text/plain": [
       "0     False\n",
       "1     False\n",
       "2     False\n",
       "3     False\n",
       "4     False\n",
       "5     False\n",
       "6     False\n",
       "7     False\n",
       "8     False\n",
       "9     False\n",
       "10    False\n",
       "11    False\n",
       "12    False\n",
       "13    False\n",
       "14    False\n",
       "15    False\n",
       "16    False\n",
       "17    False\n",
       "18    False\n",
       "19    False\n",
       "20    False\n",
       "dtype: bool"
      ]
     },
     "execution_count": 6,
     "metadata": {},
     "output_type": "execute_result"
    }
   ],
   "source": [
    "Delivery_time.duplicated()  #no duplicate values"
   ]
  },
  {
   "cell_type": "code",
   "execution_count": 7,
   "id": "e7422a80",
   "metadata": {
    "scrolled": true
   },
   "outputs": [
    {
     "data": {
      "text/plain": [
       "<AxesSubplot:xlabel='Sorting Time', ylabel='Delivery Time'>"
      ]
     },
     "execution_count": 7,
     "metadata": {},
     "output_type": "execute_result"
    },
    {
     "data": {
      "image/png": "[encoded data removed]",
      "text/plain": [
       "<Figure size 360x360 with 1 Axes>"
      ]
     },
     "metadata": {
      "needs_background": "light"
     },
     "output_type": "display_data"
    }
   ],
   "source": [
    "#visualisation \n",
    "import seaborn as sns\n",
    "import matplotlib.pyplot as plt\n",
    "plt.figure(figsize=(5,5))\n",
    "sns.scatterplot(x='Sorting Time',y='Delivery Time',data=Delivery_time,palette='set1')"
   ]
  },
  {
   "cell_type": "code",
   "execution_count": 8,
   "id": "a9ad8c11",
   "metadata": {
    "scrolled": true
   },
   "outputs": [
    {
     "data": {
      "text/plain": [
       "(array([[0., 0., 2., 3., 4., 4., 4., 2., 1., 1.],\n",
       "        [7., 8., 6., 0., 0., 0., 0., 0., 0., 0.]]),\n",
       " array([ 2. ,  4.7,  7.4, 10.1, 12.8, 15.5, 18.2, 20.9, 23.6, 26.3, 29. ]),\n",
       " <a list of 2 BarContainer objects>)"
      ]
     },
     "execution_count": 8,
     "metadata": {},
     "output_type": "execute_result"
    },
    {
     "data": {
      "image/png": "[encoded data removed]",
      "text/plain": [
       "<Figure size 432x288 with 1 Axes>"
      ]
     },
     "metadata": {
      "needs_background": "light"
     },
     "output_type": "display_data"
    }
   ],
   "source": [
    "plt.hist(Delivery_time)"
   ]
  },
  {
   "cell_type": "code",
   "execution_count": 9,
   "id": "5c2eddb2",
   "metadata": {
    "scrolled": true
   },
   "outputs": [
    {
     "data": {
      "text/plain": [
       "{'whiskers': [<matplotlib.lines.Line2D at 0x1a344f14c40>,\n",
       "  <matplotlib.lines.Line2D at 0x1a344f14f10>],\n",
       " 'caps': [<matplotlib.lines.Line2D at 0x1a344f262e0>,\n",
       "  <matplotlib.lines.Line2D at 0x1a344f264f0>],\n",
       " 'boxes': [<matplotlib.lines.Line2D at 0x1a344f14940>],\n",
       " 'medians': [<matplotlib.lines.Line2D at 0x1a344f267c0>],\n",
       " 'fliers': [<matplotlib.lines.Line2D at 0x1a344f26a90>],\n",
       " 'means': []}"
      ]
     },
     "execution_count": 9,
     "metadata": {},
     "output_type": "execute_result"
    },
    {
     "data": {
      "image/png": "[encoded data removed]",
      "text/plain": [
       "<Figure size 432x288 with 1 Axes>"
      ]
     },
     "metadata": {
      "needs_background": "light"
     },
     "output_type": "display_data"
    }
   ],
   "source": [
    "plt.boxplot(Delivery_time.iloc[1]) #nooutliers in the data"
   ]
  },
  {
   "cell_type": "code",
   "execution_count": 10,
   "id": "27f68d9a",
   "metadata": {
    "scrolled": true
   },
   "outputs": [
    {
     "data": {
      "text/plain": [
       "{'whiskers': [<matplotlib.lines.Line2D at 0x1a344f81460>,\n",
       "  <matplotlib.lines.Line2D at 0x1a344f81730>],\n",
       " 'caps': [<matplotlib.lines.Line2D at 0x1a344f81a00>,\n",
       "  <matplotlib.lines.Line2D at 0x1a344f81cd0>],\n",
       " 'boxes': [<matplotlib.lines.Line2D at 0x1a344f81190>],\n",
       " 'medians': [<matplotlib.lines.Line2D at 0x1a344f81fa0>],\n",
       " 'fliers': [<matplotlib.lines.Line2D at 0x1a344f8d2b0>],\n",
       " 'means': []}"
      ]
     },
     "execution_count": 10,
     "metadata": {},
     "output_type": "execute_result"
    },
    {
     "data": {
      "image/png": "[encoded data removed]",
      "text/plain": [
       "<Figure size 432x288 with 1 Axes>"
      ]
     },
     "metadata": {
      "needs_background": "light"
     },
     "output_type": "display_data"
    }
   ],
   "source": [
    "plt.boxplot(Delivery_time.iloc[2])#no outliers"
   ]
  },
  {
   "cell_type": "code",
   "execution_count": 11,
   "id": "988a44a2",
   "metadata": {
    "scrolled": true
   },
   "outputs": [
    {
     "data": {
      "text/plain": [
       "<AxesSubplot:xlabel='Delivery Time', ylabel='Density'>"
      ]
     },
     "execution_count": 11,
     "metadata": {},
     "output_type": "execute_result"
    },
    {
     "data": {
      "image/png": "[encoded data removed]",
      "text/plain": [
       "<Figure size 432x288 with 1 Axes>"
      ]
     },
     "metadata": {
      "needs_background": "light"
     },
     "output_type": "display_data"
    }
   ],
   "source": [
    "sns.distplot(Delivery_time['Delivery Time'])"
   ]
  },
  {
   "cell_type": "code",
   "execution_count": 12,
   "id": "aa67b739",
   "metadata": {},
   "outputs": [
    {
     "data": {
      "text/plain": [
       "<AxesSubplot:xlabel='Sorting Time', ylabel='Density'>"
      ]
     },
     "execution_count": 12,
     "metadata": {},
     "output_type": "execute_result"
    },
    {
     "data": {
      "image/png": "[encoded data removed]",
      "text/plain": [
       "<Figure size 432x288 with 1 Axes>"
      ]
     },
     "metadata": {
      "needs_background": "light"
     },
     "output_type": "display_data"
    }
   ],
   "source": [
    "sns.distplot(Delivery_time['Sorting Time'])"
   ]
  },
  {
   "cell_type": "code",
   "execution_count": 13,
   "id": "5e930597",
   "metadata": {
    "scrolled": true
   },
   "outputs": [
    {
     "data": {
      "text/html": [
       "<div>\n",
       "<style scoped>\n",
       "    .dataframe tbody tr th:only-of-type {\n",
       "        vertical-align: middle;\n",
       "    }\n",
       "\n",
       "    .dataframe tbody tr th {\n",
       "        vertical-align: top;\n",
       "    }\n",
       "\n",
       "    .dataframe thead th {\n",
       "        text-align: right;\n",
       "    }\n",
       "</style>\n",
       "<table border=\"1\" class=\"dataframe\">\n",
       "  <thead>\n",
       "    <tr style=\"text-align: right;\">\n",
       "      <th></th>\n",
       "      <th>Delivery Time</th>\n",
       "      <th>Sorting Time</th>\n",
       "    </tr>\n",
       "  </thead>\n",
       "  <tbody>\n",
       "    <tr>\n",
       "      <th>Delivery Time</th>\n",
       "      <td>1.000000</td>\n",
       "      <td>0.825997</td>\n",
       "    </tr>\n",
       "    <tr>\n",
       "      <th>Sorting Time</th>\n",
       "      <td>0.825997</td>\n",
       "      <td>1.000000</td>\n",
       "    </tr>\n",
       "  </tbody>\n",
       "</table>\n",
       "</div>"
      ],
      "text/plain": [
       "               Delivery Time  Sorting Time\n",
       "Delivery Time       1.000000      0.825997\n",
       "Sorting Time        0.825997      1.000000"
      ]
     },
     "execution_count": 13,
     "metadata": {},
     "output_type": "execute_result"
    }
   ],
   "source": [
    "Delivery_time.corr() #0.826"
   ]
  },
  {
   "cell_type": "code",
   "execution_count": 14,
   "id": "36406e2a",
   "metadata": {},
   "outputs": [],
   "source": [
    "Delivery_time.columns=[\"deliverytime\",\"sortingtime\"]"
   ]
  },
  {
   "cell_type": "code",
   "execution_count": 15,
   "id": "8b4d8c55",
   "metadata": {
    "scrolled": false
   },
   "outputs": [
    {
     "data": {
      "text/plain": [
       "<AxesSubplot:xlabel='sortingtime', ylabel='deliverytime'>"
      ]
     },
     "execution_count": 15,
     "metadata": {},
     "output_type": "execute_result"
    },
    {
     "data": {
      "image/png": "[encoded data removed]",
      "text/plain": [
       "<Figure size 432x288 with 1 Axes>"
      ]
     },
     "metadata": {
      "needs_background": "light"
     },
     "output_type": "display_data"
    }
   ],
   "source": [
    "sns.regplot(x=\"sortingtime\",y=\"deliverytime\",data=Delivery_time)"
   ]
  },
  {
   "cell_type": "code",
   "execution_count": 16,
   "id": "c1588e49",
   "metadata": {},
   "outputs": [],
   "source": [
    "import statsmodels.formula.api as smf# importing stats module"
   ]
  },
  {
   "cell_type": "code",
   "execution_count": 17,
   "id": "94816ebe",
   "metadata": {},
   "outputs": [],
   "source": [
    "# Transforming variables for accuracy"
   ]
  },
  {
   "cell_type": "code",
   "execution_count": 18,
   "id": "93d88b23",
   "metadata": {},
   "outputs": [],
   "source": [
    "import numpy as np"
   ]
  },
  {
   "cell_type": "code",
   "execution_count": 19,
   "id": "f9fcaace",
   "metadata": {},
   "outputs": [],
   "source": [
    "Delivery_time['st_sq']=Delivery_time.sortingtime**2\n",
    "Delivery_time['st_sqrt']=Delivery_time.sortingtime**0.5\n",
    "Delivery_time['st_log']=np.log(Delivery_time.sortingtime)\n",
    "Delivery_time['st_sqrt4']=Delivery_time.sortingtime**0.4"
   ]
  },
  {
   "cell_type": "code",
   "execution_count": 20,
   "id": "88d33da9",
   "metadata": {},
   "outputs": [
    {
     "data": {
      "text/html": [
       "<div>\n",
       "<style scoped>\n",
       "    .dataframe tbody tr th:only-of-type {\n",
       "        vertical-align: middle;\n",
       "    }\n",
       "\n",
       "    .dataframe tbody tr th {\n",
       "        vertical-align: top;\n",
       "    }\n",
       "\n",
       "    .dataframe thead th {\n",
       "        text-align: right;\n",
       "    }\n",
       "</style>\n",
       "<table border=\"1\" class=\"dataframe\">\n",
       "  <thead>\n",
       "    <tr style=\"text-align: right;\">\n",
       "      <th></th>\n",
       "      <th>deliverytime</th>\n",
       "      <th>sortingtime</th>\n",
       "      <th>st_sq</th>\n",
       "      <th>st_sqrt</th>\n",
       "      <th>st_log</th>\n",
       "      <th>st_sqrt4</th>\n",
       "    </tr>\n",
       "  </thead>\n",
       "  <tbody>\n",
       "    <tr>\n",
       "      <th>0</th>\n",
       "      <td>21.00</td>\n",
       "      <td>10</td>\n",
       "      <td>100</td>\n",
       "      <td>3.162278</td>\n",
       "      <td>2.302585</td>\n",
       "      <td>2.511886</td>\n",
       "    </tr>\n",
       "    <tr>\n",
       "      <th>1</th>\n",
       "      <td>13.50</td>\n",
       "      <td>4</td>\n",
       "      <td>16</td>\n",
       "      <td>2.000000</td>\n",
       "      <td>1.386294</td>\n",
       "      <td>1.741101</td>\n",
       "    </tr>\n",
       "    <tr>\n",
       "      <th>2</th>\n",
       "      <td>19.75</td>\n",
       "      <td>6</td>\n",
       "      <td>36</td>\n",
       "      <td>2.449490</td>\n",
       "      <td>1.791759</td>\n",
       "      <td>2.047673</td>\n",
       "    </tr>\n",
       "    <tr>\n",
       "      <th>3</th>\n",
       "      <td>24.00</td>\n",
       "      <td>9</td>\n",
       "      <td>81</td>\n",
       "      <td>3.000000</td>\n",
       "      <td>2.197225</td>\n",
       "      <td>2.408225</td>\n",
       "    </tr>\n",
       "    <tr>\n",
       "      <th>4</th>\n",
       "      <td>29.00</td>\n",
       "      <td>10</td>\n",
       "      <td>100</td>\n",
       "      <td>3.162278</td>\n",
       "      <td>2.302585</td>\n",
       "      <td>2.511886</td>\n",
       "    </tr>\n",
       "    <tr>\n",
       "      <th>5</th>\n",
       "      <td>15.35</td>\n",
       "      <td>6</td>\n",
       "      <td>36</td>\n",
       "      <td>2.449490</td>\n",
       "      <td>1.791759</td>\n",
       "      <td>2.047673</td>\n",
       "    </tr>\n",
       "    <tr>\n",
       "      <th>6</th>\n",
       "      <td>19.00</td>\n",
       "      <td>7</td>\n",
       "      <td>49</td>\n",
       "      <td>2.645751</td>\n",
       "      <td>1.945910</td>\n",
       "      <td>2.177906</td>\n",
       "    </tr>\n",
       "    <tr>\n",
       "      <th>7</th>\n",
       "      <td>9.50</td>\n",
       "      <td>3</td>\n",
       "      <td>9</td>\n",
       "      <td>1.732051</td>\n",
       "      <td>1.098612</td>\n",
       "      <td>1.551846</td>\n",
       "    </tr>\n",
       "    <tr>\n",
       "      <th>8</th>\n",
       "      <td>17.90</td>\n",
       "      <td>10</td>\n",
       "      <td>100</td>\n",
       "      <td>3.162278</td>\n",
       "      <td>2.302585</td>\n",
       "      <td>2.511886</td>\n",
       "    </tr>\n",
       "    <tr>\n",
       "      <th>9</th>\n",
       "      <td>18.75</td>\n",
       "      <td>9</td>\n",
       "      <td>81</td>\n",
       "      <td>3.000000</td>\n",
       "      <td>2.197225</td>\n",
       "      <td>2.408225</td>\n",
       "    </tr>\n",
       "    <tr>\n",
       "      <th>10</th>\n",
       "      <td>19.83</td>\n",
       "      <td>8</td>\n",
       "      <td>64</td>\n",
       "      <td>2.828427</td>\n",
       "      <td>2.079442</td>\n",
       "      <td>2.297397</td>\n",
       "    </tr>\n",
       "    <tr>\n",
       "      <th>11</th>\n",
       "      <td>10.75</td>\n",
       "      <td>4</td>\n",
       "      <td>16</td>\n",
       "      <td>2.000000</td>\n",
       "      <td>1.386294</td>\n",
       "      <td>1.741101</td>\n",
       "    </tr>\n",
       "    <tr>\n",
       "      <th>12</th>\n",
       "      <td>16.68</td>\n",
       "      <td>7</td>\n",
       "      <td>49</td>\n",
       "      <td>2.645751</td>\n",
       "      <td>1.945910</td>\n",
       "      <td>2.177906</td>\n",
       "    </tr>\n",
       "    <tr>\n",
       "      <th>13</th>\n",
       "      <td>11.50</td>\n",
       "      <td>3</td>\n",
       "      <td>9</td>\n",
       "      <td>1.732051</td>\n",
       "      <td>1.098612</td>\n",
       "      <td>1.551846</td>\n",
       "    </tr>\n",
       "    <tr>\n",
       "      <th>14</th>\n",
       "      <td>12.03</td>\n",
       "      <td>3</td>\n",
       "      <td>9</td>\n",
       "      <td>1.732051</td>\n",
       "      <td>1.098612</td>\n",
       "      <td>1.551846</td>\n",
       "    </tr>\n",
       "    <tr>\n",
       "      <th>15</th>\n",
       "      <td>14.88</td>\n",
       "      <td>4</td>\n",
       "      <td>16</td>\n",
       "      <td>2.000000</td>\n",
       "      <td>1.386294</td>\n",
       "      <td>1.741101</td>\n",
       "    </tr>\n",
       "    <tr>\n",
       "      <th>16</th>\n",
       "      <td>13.75</td>\n",
       "      <td>6</td>\n",
       "      <td>36</td>\n",
       "      <td>2.449490</td>\n",
       "      <td>1.791759</td>\n",
       "      <td>2.047673</td>\n",
       "    </tr>\n",
       "    <tr>\n",
       "      <th>17</th>\n",
       "      <td>18.11</td>\n",
       "      <td>7</td>\n",
       "      <td>49</td>\n",
       "      <td>2.645751</td>\n",
       "      <td>1.945910</td>\n",
       "      <td>2.177906</td>\n",
       "    </tr>\n",
       "    <tr>\n",
       "      <th>18</th>\n",
       "      <td>8.00</td>\n",
       "      <td>2</td>\n",
       "      <td>4</td>\n",
       "      <td>1.414214</td>\n",
       "      <td>0.693147</td>\n",
       "      <td>1.319508</td>\n",
       "    </tr>\n",
       "    <tr>\n",
       "      <th>19</th>\n",
       "      <td>17.83</td>\n",
       "      <td>7</td>\n",
       "      <td>49</td>\n",
       "      <td>2.645751</td>\n",
       "      <td>1.945910</td>\n",
       "      <td>2.177906</td>\n",
       "    </tr>\n",
       "    <tr>\n",
       "      <th>20</th>\n",
       "      <td>21.50</td>\n",
       "      <td>5</td>\n",
       "      <td>25</td>\n",
       "      <td>2.236068</td>\n",
       "      <td>1.609438</td>\n",
       "      <td>1.903654</td>\n",
       "    </tr>\n",
       "  </tbody>\n",
       "</table>\n",
       "</div>"
      ],
      "text/plain": [
       "    deliverytime  sortingtime  st_sq   st_sqrt    st_log  st_sqrt4\n",
       "0          21.00           10    100  3.162278  2.302585  2.511886\n",
       "1          13.50            4     16  2.000000  1.386294  1.741101\n",
       "2          19.75            6     36  2.449490  1.791759  2.047673\n",
       "3          24.00            9     81  3.000000  2.197225  2.408225\n",
       "4          29.00           10    100  3.162278  2.302585  2.511886\n",
       "5          15.35            6     36  2.449490  1.791759  2.047673\n",
       "6          19.00            7     49  2.645751  1.945910  2.177906\n",
       "7           9.50            3      9  1.732051  1.098612  1.551846\n",
       "8          17.90           10    100  3.162278  2.302585  2.511886\n",
       "9          18.75            9     81  3.000000  2.197225  2.408225\n",
       "10         19.83            8     64  2.828427  2.079442  2.297397\n",
       "11         10.75            4     16  2.000000  1.386294  1.741101\n",
       "12         16.68            7     49  2.645751  1.945910  2.177906\n",
       "13         11.50            3      9  1.732051  1.098612  1.551846\n",
       "14         12.03            3      9  1.732051  1.098612  1.551846\n",
       "15         14.88            4     16  2.000000  1.386294  1.741101\n",
       "16         13.75            6     36  2.449490  1.791759  2.047673\n",
       "17         18.11            7     49  2.645751  1.945910  2.177906\n",
       "18          8.00            2      4  1.414214  0.693147  1.319508\n",
       "19         17.83            7     49  2.645751  1.945910  2.177906\n",
       "20         21.50            5     25  2.236068  1.609438  1.903654"
      ]
     },
     "execution_count": 20,
     "metadata": {},
     "output_type": "execute_result"
    }
   ],
   "source": [
    "Delivery_time"
   ]
  },
  {
   "cell_type": "code",
   "execution_count": 21,
   "id": "21a4cc92",
   "metadata": {},
   "outputs": [
    {
     "data": {
      "text/html": [
       "<div>\n",
       "<style scoped>\n",
       "    .dataframe tbody tr th:only-of-type {\n",
       "        vertical-align: middle;\n",
       "    }\n",
       "\n",
       "    .dataframe tbody tr th {\n",
       "        vertical-align: top;\n",
       "    }\n",
       "\n",
       "    .dataframe thead th {\n",
       "        text-align: right;\n",
       "    }\n",
       "</style>\n",
       "<table border=\"1\" class=\"dataframe\">\n",
       "  <thead>\n",
       "    <tr style=\"text-align: right;\">\n",
       "      <th></th>\n",
       "      <th>deliverytime</th>\n",
       "      <th>sortingtime</th>\n",
       "      <th>st_sq</th>\n",
       "      <th>st_sqrt</th>\n",
       "      <th>st_log</th>\n",
       "      <th>st_sqrt4</th>\n",
       "    </tr>\n",
       "  </thead>\n",
       "  <tbody>\n",
       "    <tr>\n",
       "      <th>deliverytime</th>\n",
       "      <td>1.000000</td>\n",
       "      <td>0.825997</td>\n",
       "      <td>0.793906</td>\n",
       "      <td>0.834150</td>\n",
       "      <td>0.833933</td>\n",
       "      <td>0.834847</td>\n",
       "    </tr>\n",
       "    <tr>\n",
       "      <th>sortingtime</th>\n",
       "      <td>0.825997</td>\n",
       "      <td>1.000000</td>\n",
       "      <td>0.983967</td>\n",
       "      <td>0.994704</td>\n",
       "      <td>0.977447</td>\n",
       "      <td>0.992266</td>\n",
       "    </tr>\n",
       "    <tr>\n",
       "      <th>st_sq</th>\n",
       "      <td>0.793906</td>\n",
       "      <td>0.983967</td>\n",
       "      <td>1.000000</td>\n",
       "      <td>0.960816</td>\n",
       "      <td>0.925659</td>\n",
       "      <td>0.954766</td>\n",
       "    </tr>\n",
       "    <tr>\n",
       "      <th>st_sqrt</th>\n",
       "      <td>0.834150</td>\n",
       "      <td>0.994704</td>\n",
       "      <td>0.960816</td>\n",
       "      <td>1.000000</td>\n",
       "      <td>0.993904</td>\n",
       "      <td>0.999768</td>\n",
       "    </tr>\n",
       "    <tr>\n",
       "      <th>st_log</th>\n",
       "      <td>0.833933</td>\n",
       "      <td>0.977447</td>\n",
       "      <td>0.925659</td>\n",
       "      <td>0.993904</td>\n",
       "      <td>1.000000</td>\n",
       "      <td>0.996045</td>\n",
       "    </tr>\n",
       "    <tr>\n",
       "      <th>st_sqrt4</th>\n",
       "      <td>0.834847</td>\n",
       "      <td>0.992266</td>\n",
       "      <td>0.954766</td>\n",
       "      <td>0.999768</td>\n",
       "      <td>0.996045</td>\n",
       "      <td>1.000000</td>\n",
       "    </tr>\n",
       "  </tbody>\n",
       "</table>\n",
       "</div>"
      ],
      "text/plain": [
       "              deliverytime  sortingtime     st_sq   st_sqrt    st_log  \\\n",
       "deliverytime      1.000000     0.825997  0.793906  0.834150  0.833933   \n",
       "sortingtime       0.825997     1.000000  0.983967  0.994704  0.977447   \n",
       "st_sq             0.793906     0.983967  1.000000  0.960816  0.925659   \n",
       "st_sqrt           0.834150     0.994704  0.960816  1.000000  0.993904   \n",
       "st_log            0.833933     0.977447  0.925659  0.993904  1.000000   \n",
       "st_sqrt4          0.834847     0.992266  0.954766  0.999768  0.996045   \n",
       "\n",
       "              st_sqrt4  \n",
       "deliverytime  0.834847  \n",
       "sortingtime   0.992266  \n",
       "st_sq         0.954766  \n",
       "st_sqrt       0.999768  \n",
       "st_log        0.996045  \n",
       "st_sqrt4      1.000000  "
      ]
     },
     "execution_count": 21,
     "metadata": {},
     "output_type": "execute_result"
    }
   ],
   "source": [
    "Delivery_time.corr()"
   ]
  },
  {
   "cell_type": "code",
   "execution_count": 22,
   "id": "dae3de16",
   "metadata": {},
   "outputs": [
    {
     "data": {
      "text/plain": [
       "<seaborn.axisgrid.PairGrid at 0x1a3458268e0>"
      ]
     },
     "execution_count": 22,
     "metadata": {},
     "output_type": "execute_result"
    },
    {
     "data": {
      "image/png": "[encoded data removed]",
      "text/plain": [
       "<Figure size 1080x1080 with 42 Axes>"
      ]
     },
     "metadata": {
      "needs_background": "light"
     },
     "output_type": "display_data"
    }
   ],
   "source": [
    "sns.pairplot(Delivery_time)"
   ]
  },
  {
   "cell_type": "code",
   "execution_count": 23,
   "id": "c4052c4c",
   "metadata": {},
   "outputs": [],
   "source": [
    "#Delivery_time['st_sqrt4']=Delivery_time.sortingtime**0.4 ,transformation shows more correlation"
   ]
  },
  {
   "cell_type": "code",
   "execution_count": 24,
   "id": "eff866dd",
   "metadata": {},
   "outputs": [
    {
     "data": {
      "text/plain": [
       "<AxesSubplot:xlabel='st_sqrt4', ylabel='Density'>"
      ]
     },
     "execution_count": 24,
     "metadata": {},
     "output_type": "execute_result"
    },
    {
     "data": {
      "image/png": "[encoded data removed]",
      "text/plain": [
       "<Figure size 432x288 with 4 Axes>"
      ]
     },
     "metadata": {
      "needs_background": "light"
     },
     "output_type": "display_data"
    }
   ],
   "source": [
    "fig,axs=plt.subplots(2,2)\n",
    "sns.distplot(Delivery_time['st_sq'],ax=axs[0,0])\n",
    "sns.distplot(Delivery_time['st_sqrt'],ax=axs[0,1])\n",
    "sns.distplot(Delivery_time['st_log'],ax=axs[1,0])\n",
    "sns.distplot(Delivery_time['st_sqrt4'],ax=axs[1,1])\n"
   ]
  },
  {
   "cell_type": "code",
   "execution_count": 25,
   "id": "a759ee3d",
   "metadata": {},
   "outputs": [],
   "source": [
    "#MODEL MAKING"
   ]
  },
  {
   "cell_type": "code",
   "execution_count": 26,
   "id": "d9dfbb40",
   "metadata": {},
   "outputs": [],
   "source": [
    "MODEL=smf.ols(\"deliverytime~sortingtime\",data=Delivery_time).fit()\n",
    "MODEL_SQ=smf.ols(\"deliverytime~st_sq\",data=Delivery_time).fit()\n",
    "MODEL_SQRT=smf.ols(\"deliverytime~st_sqrt\",data=Delivery_time).fit()\n",
    "MODEL_LOG=smf.ols(\"deliverytime~st_log\",data=Delivery_time).fit()\n",
    "MODEL_SQRT4=smf.ols(\"deliverytime~st_sqrt4\",data=Delivery_time).fit()"
   ]
  },
  {
   "cell_type": "code",
   "execution_count": 27,
   "id": "c7d6f5cd",
   "metadata": {
    "scrolled": true
   },
   "outputs": [
    {
     "name": "stdout",
     "output_type": "stream",
     "text": [
      "RSQUARED VALUE OF MODEL: 0.6822714748417231\n",
      "RSQUARED VALUE OF MODEL_SQ: 0.6302871815826637\n",
      "RSQUARED VALUE OF MODEL_SQRT: 0.695806227630867\n",
      "RSQUARED VALUE OF MODEL_LOG: 0.6954434611324223\n",
      "RSQUARED VALUE OF MODEL_SQRT4: 0.6969691412160728\n"
     ]
    }
   ],
   "source": [
    "#rsquared values of untransformed and transformed models\n",
    "print(\"RSQUARED VALUE OF MODEL:\",MODEL.rsquared)\n",
    "print(\"RSQUARED VALUE OF MODEL_SQ:\",MODEL_SQ.rsquared)\n",
    "print(\"RSQUARED VALUE OF MODEL_SQRT:\",MODEL_SQRT.rsquared)\n",
    "print(\"RSQUARED VALUE OF MODEL_LOG:\",MODEL_LOG.rsquared)\n",
    "print(\"RSQUARED VALUE OF MODEL_SQRT4:\",MODEL_SQRT4.rsquared)"
   ]
  },
  {
   "cell_type": "code",
   "execution_count": 28,
   "id": "6092d93d",
   "metadata": {},
   "outputs": [],
   "source": [
    "#MODEL_SQRT4 HAS LARGE RSQUARED VALUE ,SO IT IS THE BEST MODEL "
   ]
  },
  {
   "cell_type": "code",
   "execution_count": 29,
   "id": "9c99fe81",
   "metadata": {},
   "outputs": [
    {
     "data": {
      "text/plain": [
       "Intercept    -7.050883\n",
       "st_sqrt4     11.751321\n",
       "dtype: float64"
      ]
     },
     "execution_count": 29,
     "metadata": {},
     "output_type": "execute_result"
    }
   ],
   "source": [
    "MODEL_SQRT4.params"
   ]
  },
  {
   "cell_type": "code",
   "execution_count": 30,
   "id": "874989ee",
   "metadata": {},
   "outputs": [
    {
     "data": {
      "text/plain": [
       "Intercept   -1.926237\n",
       "st_sqrt4     6.610589\n",
       "dtype: float64"
      ]
     },
     "execution_count": 30,
     "metadata": {},
     "output_type": "execute_result"
    }
   ],
   "source": [
    "MODEL_SQRT4.tvalues"
   ]
  },
  {
   "cell_type": "code",
   "execution_count": 31,
   "id": "9f23189a",
   "metadata": {},
   "outputs": [
    {
     "data": {
      "text/plain": [
       "Intercept    0.069169\n",
       "st_sqrt4     0.000003\n",
       "dtype: float64"
      ]
     },
     "execution_count": 31,
     "metadata": {},
     "output_type": "execute_result"
    }
   ],
   "source": [
    "MODEL_SQRT4.pvalues"
   ]
  },
  {
   "cell_type": "code",
   "execution_count": 32,
   "id": "678adff4",
   "metadata": {},
   "outputs": [
    {
     "data": {
      "text/plain": [
       "0    -1.467100\n",
       "1     0.090645\n",
       "2     2.738026\n",
       "3     2.751062\n",
       "4     6.532900\n",
       "5    -1.661974\n",
       "6     0.457606\n",
       "7    -1.685352\n",
       "8    -4.567100\n",
       "9    -2.498938\n",
       "10   -0.116563\n",
       "11   -2.659355\n",
       "12   -1.862394\n",
       "13    0.314648\n",
       "14    0.844648\n",
       "15    1.470645\n",
       "16   -3.261974\n",
       "17   -0.432394\n",
       "18   -0.455078\n",
       "19   -0.712394\n",
       "20    6.180435\n",
       "dtype: float64"
      ]
     },
     "execution_count": 32,
     "metadata": {},
     "output_type": "execute_result"
    }
   ],
   "source": [
    "MODEL_SQRT4.resid"
   ]
  },
  {
   "cell_type": "code",
   "execution_count": 33,
   "id": "0465d64e",
   "metadata": {},
   "outputs": [],
   "source": [
    "Delivery_time[\"PREDICTED\"]=MODEL_SQRT4.fittedvalues"
   ]
  },
  {
   "cell_type": "code",
   "execution_count": 34,
   "id": "3d9d7973",
   "metadata": {},
   "outputs": [
    {
     "data": {
      "text/html": [
       "<div>\n",
       "<style scoped>\n",
       "    .dataframe tbody tr th:only-of-type {\n",
       "        vertical-align: middle;\n",
       "    }\n",
       "\n",
       "    .dataframe tbody tr th {\n",
       "        vertical-align: top;\n",
       "    }\n",
       "\n",
       "    .dataframe thead th {\n",
       "        text-align: right;\n",
       "    }\n",
       "</style>\n",
       "<table border=\"1\" class=\"dataframe\">\n",
       "  <thead>\n",
       "    <tr style=\"text-align: right;\">\n",
       "      <th></th>\n",
       "      <th>deliverytime</th>\n",
       "      <th>sortingtime</th>\n",
       "      <th>st_sq</th>\n",
       "      <th>st_sqrt</th>\n",
       "      <th>st_log</th>\n",
       "      <th>st_sqrt4</th>\n",
       "      <th>PREDICTED</th>\n",
       "    </tr>\n",
       "  </thead>\n",
       "  <tbody>\n",
       "    <tr>\n",
       "      <th>0</th>\n",
       "      <td>21.00</td>\n",
       "      <td>10</td>\n",
       "      <td>100</td>\n",
       "      <td>3.162278</td>\n",
       "      <td>2.302585</td>\n",
       "      <td>2.511886</td>\n",
       "      <td>22.467100</td>\n",
       "    </tr>\n",
       "    <tr>\n",
       "      <th>1</th>\n",
       "      <td>13.50</td>\n",
       "      <td>4</td>\n",
       "      <td>16</td>\n",
       "      <td>2.000000</td>\n",
       "      <td>1.386294</td>\n",
       "      <td>1.741101</td>\n",
       "      <td>13.409355</td>\n",
       "    </tr>\n",
       "    <tr>\n",
       "      <th>2</th>\n",
       "      <td>19.75</td>\n",
       "      <td>6</td>\n",
       "      <td>36</td>\n",
       "      <td>2.449490</td>\n",
       "      <td>1.791759</td>\n",
       "      <td>2.047673</td>\n",
       "      <td>17.011974</td>\n",
       "    </tr>\n",
       "    <tr>\n",
       "      <th>3</th>\n",
       "      <td>24.00</td>\n",
       "      <td>9</td>\n",
       "      <td>81</td>\n",
       "      <td>3.000000</td>\n",
       "      <td>2.197225</td>\n",
       "      <td>2.408225</td>\n",
       "      <td>21.248938</td>\n",
       "    </tr>\n",
       "    <tr>\n",
       "      <th>4</th>\n",
       "      <td>29.00</td>\n",
       "      <td>10</td>\n",
       "      <td>100</td>\n",
       "      <td>3.162278</td>\n",
       "      <td>2.302585</td>\n",
       "      <td>2.511886</td>\n",
       "      <td>22.467100</td>\n",
       "    </tr>\n",
       "    <tr>\n",
       "      <th>5</th>\n",
       "      <td>15.35</td>\n",
       "      <td>6</td>\n",
       "      <td>36</td>\n",
       "      <td>2.449490</td>\n",
       "      <td>1.791759</td>\n",
       "      <td>2.047673</td>\n",
       "      <td>17.011974</td>\n",
       "    </tr>\n",
       "    <tr>\n",
       "      <th>6</th>\n",
       "      <td>19.00</td>\n",
       "      <td>7</td>\n",
       "      <td>49</td>\n",
       "      <td>2.645751</td>\n",
       "      <td>1.945910</td>\n",
       "      <td>2.177906</td>\n",
       "      <td>18.542394</td>\n",
       "    </tr>\n",
       "    <tr>\n",
       "      <th>7</th>\n",
       "      <td>9.50</td>\n",
       "      <td>3</td>\n",
       "      <td>9</td>\n",
       "      <td>1.732051</td>\n",
       "      <td>1.098612</td>\n",
       "      <td>1.551846</td>\n",
       "      <td>11.185352</td>\n",
       "    </tr>\n",
       "    <tr>\n",
       "      <th>8</th>\n",
       "      <td>17.90</td>\n",
       "      <td>10</td>\n",
       "      <td>100</td>\n",
       "      <td>3.162278</td>\n",
       "      <td>2.302585</td>\n",
       "      <td>2.511886</td>\n",
       "      <td>22.467100</td>\n",
       "    </tr>\n",
       "    <tr>\n",
       "      <th>9</th>\n",
       "      <td>18.75</td>\n",
       "      <td>9</td>\n",
       "      <td>81</td>\n",
       "      <td>3.000000</td>\n",
       "      <td>2.197225</td>\n",
       "      <td>2.408225</td>\n",
       "      <td>21.248938</td>\n",
       "    </tr>\n",
       "    <tr>\n",
       "      <th>10</th>\n",
       "      <td>19.83</td>\n",
       "      <td>8</td>\n",
       "      <td>64</td>\n",
       "      <td>2.828427</td>\n",
       "      <td>2.079442</td>\n",
       "      <td>2.297397</td>\n",
       "      <td>19.946563</td>\n",
       "    </tr>\n",
       "    <tr>\n",
       "      <th>11</th>\n",
       "      <td>10.75</td>\n",
       "      <td>4</td>\n",
       "      <td>16</td>\n",
       "      <td>2.000000</td>\n",
       "      <td>1.386294</td>\n",
       "      <td>1.741101</td>\n",
       "      <td>13.409355</td>\n",
       "    </tr>\n",
       "    <tr>\n",
       "      <th>12</th>\n",
       "      <td>16.68</td>\n",
       "      <td>7</td>\n",
       "      <td>49</td>\n",
       "      <td>2.645751</td>\n",
       "      <td>1.945910</td>\n",
       "      <td>2.177906</td>\n",
       "      <td>18.542394</td>\n",
       "    </tr>\n",
       "    <tr>\n",
       "      <th>13</th>\n",
       "      <td>11.50</td>\n",
       "      <td>3</td>\n",
       "      <td>9</td>\n",
       "      <td>1.732051</td>\n",
       "      <td>1.098612</td>\n",
       "      <td>1.551846</td>\n",
       "      <td>11.185352</td>\n",
       "    </tr>\n",
       "    <tr>\n",
       "      <th>14</th>\n",
       "      <td>12.03</td>\n",
       "      <td>3</td>\n",
       "      <td>9</td>\n",
       "      <td>1.732051</td>\n",
       "      <td>1.098612</td>\n",
       "      <td>1.551846</td>\n",
       "      <td>11.185352</td>\n",
       "    </tr>\n",
       "    <tr>\n",
       "      <th>15</th>\n",
       "      <td>14.88</td>\n",
       "      <td>4</td>\n",
       "      <td>16</td>\n",
       "      <td>2.000000</td>\n",
       "      <td>1.386294</td>\n",
       "      <td>1.741101</td>\n",
       "      <td>13.409355</td>\n",
       "    </tr>\n",
       "    <tr>\n",
       "      <th>16</th>\n",
       "      <td>13.75</td>\n",
       "      <td>6</td>\n",
       "      <td>36</td>\n",
       "      <td>2.449490</td>\n",
       "      <td>1.791759</td>\n",
       "      <td>2.047673</td>\n",
       "      <td>17.011974</td>\n",
       "    </tr>\n",
       "    <tr>\n",
       "      <th>17</th>\n",
       "      <td>18.11</td>\n",
       "      <td>7</td>\n",
       "      <td>49</td>\n",
       "      <td>2.645751</td>\n",
       "      <td>1.945910</td>\n",
       "      <td>2.177906</td>\n",
       "      <td>18.542394</td>\n",
       "    </tr>\n",
       "    <tr>\n",
       "      <th>18</th>\n",
       "      <td>8.00</td>\n",
       "      <td>2</td>\n",
       "      <td>4</td>\n",
       "      <td>1.414214</td>\n",
       "      <td>0.693147</td>\n",
       "      <td>1.319508</td>\n",
       "      <td>8.455078</td>\n",
       "    </tr>\n",
       "    <tr>\n",
       "      <th>19</th>\n",
       "      <td>17.83</td>\n",
       "      <td>7</td>\n",
       "      <td>49</td>\n",
       "      <td>2.645751</td>\n",
       "      <td>1.945910</td>\n",
       "      <td>2.177906</td>\n",
       "      <td>18.542394</td>\n",
       "    </tr>\n",
       "    <tr>\n",
       "      <th>20</th>\n",
       "      <td>21.50</td>\n",
       "      <td>5</td>\n",
       "      <td>25</td>\n",
       "      <td>2.236068</td>\n",
       "      <td>1.609438</td>\n",
       "      <td>1.903654</td>\n",
       "      <td>15.319565</td>\n",
       "    </tr>\n",
       "  </tbody>\n",
       "</table>\n",
       "</div>"
      ],
      "text/plain": [
       "    deliverytime  sortingtime  st_sq   st_sqrt    st_log  st_sqrt4  PREDICTED\n",
       "0          21.00           10    100  3.162278  2.302585  2.511886  22.467100\n",
       "1          13.50            4     16  2.000000  1.386294  1.741101  13.409355\n",
       "2          19.75            6     36  2.449490  1.791759  2.047673  17.011974\n",
       "3          24.00            9     81  3.000000  2.197225  2.408225  21.248938\n",
       "4          29.00           10    100  3.162278  2.302585  2.511886  22.467100\n",
       "5          15.35            6     36  2.449490  1.791759  2.047673  17.011974\n",
       "6          19.00            7     49  2.645751  1.945910  2.177906  18.542394\n",
       "7           9.50            3      9  1.732051  1.098612  1.551846  11.185352\n",
       "8          17.90           10    100  3.162278  2.302585  2.511886  22.467100\n",
       "9          18.75            9     81  3.000000  2.197225  2.408225  21.248938\n",
       "10         19.83            8     64  2.828427  2.079442  2.297397  19.946563\n",
       "11         10.75            4     16  2.000000  1.386294  1.741101  13.409355\n",
       "12         16.68            7     49  2.645751  1.945910  2.177906  18.542394\n",
       "13         11.50            3      9  1.732051  1.098612  1.551846  11.185352\n",
       "14         12.03            3      9  1.732051  1.098612  1.551846  11.185352\n",
       "15         14.88            4     16  2.000000  1.386294  1.741101  13.409355\n",
       "16         13.75            6     36  2.449490  1.791759  2.047673  17.011974\n",
       "17         18.11            7     49  2.645751  1.945910  2.177906  18.542394\n",
       "18          8.00            2      4  1.414214  0.693147  1.319508   8.455078\n",
       "19         17.83            7     49  2.645751  1.945910  2.177906  18.542394\n",
       "20         21.50            5     25  2.236068  1.609438  1.903654  15.319565"
      ]
     },
     "execution_count": 34,
     "metadata": {},
     "output_type": "execute_result"
    }
   ],
   "source": [
    "Delivery_time"
   ]
  },
  {
   "cell_type": "code",
   "execution_count": 35,
   "id": "deb2ae89",
   "metadata": {},
   "outputs": [],
   "source": [
    "#predicting  new values"
   ]
  },
  {
   "cell_type": "code",
   "execution_count": 36,
   "id": "4d35b05a",
   "metadata": {
    "scrolled": true
   },
   "outputs": [
    {
     "data": {
      "text/html": [
       "<div>\n",
       "<style scoped>\n",
       "    .dataframe tbody tr th:only-of-type {\n",
       "        vertical-align: middle;\n",
       "    }\n",
       "\n",
       "    .dataframe tbody tr th {\n",
       "        vertical-align: top;\n",
       "    }\n",
       "\n",
       "    .dataframe thead th {\n",
       "        text-align: right;\n",
       "    }\n",
       "</style>\n",
       "<table border=\"1\" class=\"dataframe\">\n",
       "  <thead>\n",
       "    <tr style=\"text-align: right;\">\n",
       "      <th></th>\n",
       "      <th>sortingtime</th>\n",
       "      <th>st_sqrt4</th>\n",
       "    </tr>\n",
       "  </thead>\n",
       "  <tbody>\n",
       "    <tr>\n",
       "      <th>0</th>\n",
       "      <td>6</td>\n",
       "      <td>2.047673</td>\n",
       "    </tr>\n",
       "    <tr>\n",
       "      <th>1</th>\n",
       "      <td>5</td>\n",
       "      <td>1.903654</td>\n",
       "    </tr>\n",
       "  </tbody>\n",
       "</table>\n",
       "</div>"
      ],
      "text/plain": [
       "   sortingtime  st_sqrt4\n",
       "0            6  2.047673\n",
       "1            5  1.903654"
      ]
     },
     "execution_count": 36,
     "metadata": {},
     "output_type": "execute_result"
    }
   ],
   "source": [
    "NEW=pd.DataFrame({\"sortingtime\":[6,5]})\n",
    "NEW[\"st_sqrt4\"]=NEW.sortingtime**0.4\n",
    "NEW"
   ]
  },
  {
   "cell_type": "code",
   "execution_count": 37,
   "id": "7a850156",
   "metadata": {},
   "outputs": [
    {
     "data": {
      "text/html": [
       "<div>\n",
       "<style scoped>\n",
       "    .dataframe tbody tr th:only-of-type {\n",
       "        vertical-align: middle;\n",
       "    }\n",
       "\n",
       "    .dataframe tbody tr th {\n",
       "        vertical-align: top;\n",
       "    }\n",
       "\n",
       "    .dataframe thead th {\n",
       "        text-align: right;\n",
       "    }\n",
       "</style>\n",
       "<table border=\"1\" class=\"dataframe\">\n",
       "  <thead>\n",
       "    <tr style=\"text-align: right;\">\n",
       "      <th></th>\n",
       "      <th>sortingtime</th>\n",
       "      <th>st_sqrt4</th>\n",
       "      <th>PREDICTED</th>\n",
       "    </tr>\n",
       "  </thead>\n",
       "  <tbody>\n",
       "    <tr>\n",
       "      <th>0</th>\n",
       "      <td>6</td>\n",
       "      <td>2.047673</td>\n",
       "      <td>17.011974</td>\n",
       "    </tr>\n",
       "    <tr>\n",
       "      <th>1</th>\n",
       "      <td>5</td>\n",
       "      <td>1.903654</td>\n",
       "      <td>15.319565</td>\n",
       "    </tr>\n",
       "  </tbody>\n",
       "</table>\n",
       "</div>"
      ],
      "text/plain": [
       "   sortingtime  st_sqrt4  PREDICTED\n",
       "0            6  2.047673  17.011974\n",
       "1            5  1.903654  15.319565"
      ]
     },
     "execution_count": 37,
     "metadata": {},
     "output_type": "execute_result"
    }
   ],
   "source": [
    "NEW['PREDICTED']=MODEL_SQRT4.predict(NEW)\n",
    "NEW"
   ]
  },
  {
   "cell_type": "code",
   "execution_count": null,
   "id": "472c807c",
   "metadata": {},
   "outputs": [],
   "source": []
  },
  {
   "cell_type": "code",
   "execution_count": null,
   "id": "35f71293",
   "metadata": {},
   "outputs": [],
   "source": []
  },
  {
   "cell_type": "code",
   "execution_count": 1,
   "id": "02e13026",
   "metadata": {},
   "outputs": [],
   "source": []
  }
 ],
 "metadata": {
  "kernelspec": {
   "display_name": "Python 3 (ipykernel)",
   "language": "python",
   "name": "python3"
  },
  "language_info": {
   "codemirror_mode": {
    "name": "ipython",
    "version": 3
   },
   "file_extension": ".py",
   "mimetype": "text/x-python",
   "name": "python",
   "nbconvert_exporter": "python",
   "pygments_lexer": "ipython3",
   "version": "3.9.12"
  }
 },
 "nbformat": 4,
 "nbformat_minor": 5
}
